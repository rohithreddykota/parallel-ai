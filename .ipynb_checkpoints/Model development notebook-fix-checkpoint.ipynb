{
 "cells": [
  {
   "cell_type": "markdown",
   "metadata": {},
   "source": [
    "**Table of contents**<a id='toc0_'></a>    \n",
    "- [Importing Modules for Parallel Distributed Computing with Dask](#toc1_1_1_)    \n",
    "    - [Importing Dask DataFrame](#toc1_1_2_)    \n",
    "    - [Defining a Function to Print Dask DataFrame Information](#toc1_1_3_)    \n",
    "      - [Inside the Function:](#toc1_1_3_1_)    \n",
    "    - [Enhancing Functions with Parallel Execution Information via a Decorator](#toc1_1_4_)    \n",
    "      - [Import Statements](#toc1_1_4_1_)    \n",
    "      - [Decorator for Execution Information](#toc1_1_4_2_)    \n",
    "    - [Practical Use Case](#toc1_1_5_)    \n",
    "    - [Function for Retrieving **Parallel** Partition Information from a Dask DataFrame](#toc1_1_6_)    \n",
    "      - [Parameters and Return Value:](#toc1_1_6_1_)    \n",
    "      - [Core Functionality:](#toc1_1_6_2_)    \n",
    "      - [Practical Implications:](#toc1_1_6_3_)    \n",
    "    - [Repartitioning Dask DataFrames/Series for Optimized **Parallel** Processing](#toc1_1_7_)    \n",
    "      - [Key Features:](#toc1_1_7_1_)    \n",
    "      - [Parameters:](#toc1_1_7_2_)    \n",
    "      - [Functionality:](#toc1_1_7_3_)    \n",
    "      - [Practical Implications:](#toc1_1_7_4_)    \n",
    "    - [Function for Initializing a **Parallel** Dask Client](#toc1_1_8_)    \n",
    "      - [Key Parameters:](#toc1_1_8_1_)    \n",
    "      - [Function Behavior:](#toc1_1_8_2_)    \n",
    "      - [Return Value:](#toc1_1_8_3_)    \n",
    "      - [Practical Usage:](#toc1_1_8_4_)    \n",
    "    - [Loading Data with Optimized **Parallel** Partitioning Using Dask](#toc1_1_9_)    \n",
    "      - [Parameters:](#toc1_1_9_1_)    \n",
    "      - [Functionality:](#toc1_1_9_2_)    \n",
    "      - [Practical Implications:](#toc1_1_9_3_)    \n",
    "    - [Preparing Data for **Parallel** Train-Test Split Using Dask](#toc1_1_10_)    \n",
    "      - [Parameters:](#toc1_1_10_1_)    \n",
    "      - [Functionality:](#toc1_1_10_2_)    \n",
    "      - [Practical Implications:](#toc1_1_10_3_)    \n",
    "    - [Conducting Linear Regression with Optimized **Parallel** Execution](#toc1_1_11_)    \n",
    "      - [Parameters for Flexible **Parallel** Configuration:](#toc1_1_11_1_)    \n",
    "      - [Workflow:](#toc1_1_11_2_)    \n",
    "      - [Return Value:](#toc1_1_11_3_)    \n",
    "      - [Practical Implications:](#toc1_1_11_4_)    \n",
    "  - [Linear Regression (Serial Execution For comparison): CPU=1](#toc1_2_)    \n",
    "    - [How It Works](#toc1_2_1_)    \n",
    "    - [How It Works](#toc1_2_2_)    \n",
    "    - [Practical Implications](#toc1_2_3_)    \n",
    "  - [Parallel XGBRegressor: 4 CPU, 32 Chunksize](#toc1_3_)    \n",
    "    - [How It Works](#toc1_3_1_)    \n",
    "  - [Parallel XGBRegressor: 8 CPU, 32 Chunksize](#toc1_4_)    \n",
    "    - [Key Adjustments and Expected Outcomes:](#toc1_4_1_)    \n",
    "    - [Expected Outcomes and Insights:](#toc1_4_2_)    \n",
    "  - [Parallel XGBRegressor: 16 CPU, 64 Chunksize](#toc1_5_)    \n",
    "    - [Configuration Highlights and Their Implications:](#toc1_5_1_)    \n",
    "    - [Expected Advancements:](#toc1_5_2_)    \n",
    "    - [Concluding Implications:](#toc1_5_3_)    \n",
    "  - [Parallel XGBRegressor: 28 CPU, 64 Chunksize](#toc1_6_)    \n",
    "    - [Strategic Configuration for Maximum Parallel Efficiency:](#toc1_6_1_)    \n",
    "    - [Anticipated Advancements and Benefits:](#toc1_6_2_)    \n",
    "    - [Practical Implications and Insights:](#toc1_6_3_)    \n",
    "    - [Execution Time](#toc1_6_4_)    \n",
    "    - [Model Accuracy (RMSE and R² Score)](#toc1_6_5_)    \n",
    "    - [Cross-Validation Scores](#toc1_6_6_)    \n",
    "    - [Key Takeaways](#toc1_6_7_)    \n",
    "\n",
    "<!-- vscode-jupyter-toc-config\n",
    "\tnumbering=false\n",
    "\tanchor=true\n",
    "\tflat=false\n",
    "\tminLevel=1\n",
    "\tmaxLevel=6\n",
    "\t/vscode-jupyter-toc-config -->\n",
    "<!-- THIS CELL WILL BE REPLACED ON TOC UPDATE. DO NOT WRITE YOUR TEXT IN THIS CELL -->"
   ]
  },
  {
   "cell_type": "markdown",
   "metadata": {},
   "source": [
    "### <a id='toc1_1_1_'></a>[Importing Modules for Parallel Distributed Computing with Dask](#toc0_)\n",
    "\n",
    "Import necessary libraries and modules for parallel machine learning model development and evaluation:\n",
    "\n",
    "- **Dask Array**: Offers parallelized, Numpy-like arrays for large computations that can be broken down into smaller, efficient, and scalable parts.\n",
    "- **Joblib**: Utilized for lightweight pipelining in Python, enabling parallel computation across multiple cores with Dask integration.\n",
    "- **Dask ML Linear Regression**: Implements linear regression for in-memory datasets, suitable for parallel and distributed computation.\n",
    "- **Mean Squared Error and R2 Score (Dask ML)**: Evaluate model performance using mean squared error for the average squared difference between estimated values and actual values, and R2 score for the proportion of the variance in the dependent variable that is predictable.\n",
    "- **Train Test Split (Dask ML)**: Efficiently splits arrays or matrices into random train and test subsets, optimized for Dask.\n",
    "- **XGBRegressor (Dask ML)**: A parallel and distributed implementation of the XGBoost regression model, designed for efficiency and scalability within Dask ecosystems.\n",
    "- **Scikit-learn Metrics**: Import mean squared error and R2 score from Scikit-learn for model evaluation, useful for scenarios where Dask arrays are converted to Numpy arrays or for performance comparison.\n",
    "\n",
    "These imports are crucial for setting up and managing parallel distributed computing workflows in Python, utilizing Dask for parallel execution across multiple workers and time for measuring execution metrics."
   ]
  },
  {
   "cell_type": "markdown",
   "metadata": {},
   "source": [
    "> Note: Model large output are cleared for better readability and better focus on the code execution and results."
   ]
  },
  {
   "cell_type": "code",
   "execution_count": 34,
   "metadata": {},
   "outputs": [],
   "source": [
    "import warnings\n",
    "\n",
    "import dask.array as da\n",
    "import joblib\n",
    "from dask_ml.linear_model import LinearRegression\n",
    "from dask_ml.metrics import mean_squared_error\n",
    "from dask_ml.metrics import r2_score\n",
    "from dask_ml.model_selection import train_test_split\n",
    "from dask_ml.xgboost import XGBRegressor\n",
    "from sklearn.model_selection import cross_val_score, cross_val_predict  \n",
    "from sklearn.metrics import mean_squared_error, r2_score\n",
    "\n",
    "warnings.filterwarnings(\"ignore\")"
   ]
  },
  {
   "cell_type": "markdown",
   "metadata": {},
   "source": [
    "### <a id='toc1_1_2_'></a>[Importing Dask DataFrame](#toc0_)\n",
    "\n",
    "```python\n",
    "import dask.dataframe as dd\n",
    "```\n",
    "\n",
    "This line imports the `dask.dataframe` module, which provides a parallelized DataFrame object that mimics pandas but operates on large datasets that don't fit into memory, allowing for distributed computing.\n",
    "\n",
    "### <a id='toc1_1_3_'></a>[Defining a Function to Print Dask DataFrame Information](#toc0_)\n",
    "\n",
    "```python\n",
    "def print_dask_df_info(dask_df):\n",
    "    \"\"\"\n",
    "    Prints comprehensive information about a Dask DataFrame including:\n",
    "    - Number of partitions\n",
    "    - Memory usage of each partition\n",
    "    - Division information (commented out)\n",
    "    - Column data types\n",
    "    \"\"\"\n",
    "```\n",
    "\n",
    "This function, `print_dask_df_info`, is designed to print detailed information about a Dask DataFrame. It checks if the input is a Dask DataFrame and prints the number of partitions, memory usage of each partition, and column data types. The division information section is commented out but can be included to show how the DataFrame is divided among partitions.\n",
    "\n",
    "#### <a id='toc1_1_3_1_'></a>[Inside the Function:](#toc0_)\n",
    "\n",
    "1. **Check for Dask DataFrame**:\n",
    "   Ensures the input is indeed a Dask DataFrame, enhancing robustness by preventing errors when a non-Dask DataFrame is passed.\n",
    "\n",
    "2. **Number of Partitions**:\n",
    "   Retrieves and prints the total number of partitions in the Dask DataFrame, indicating how the dataset is distributed across different workers or cores.\n",
    "\n",
    "3. **Memory Usage of Each Partition**:\n",
    "   Attempts to calculate and print the memory usage of each partition in megabytes (MB), providing insight into the memory footprint of the DataFrame's partitions. This step involves converting bytes to MB for readability.\n",
    "\n",
    "4. **Column Data Types**:\n",
    "   Prints the data types of each column in the DataFrame, helping identify the kind of data each column holds, similar to pandas' `dtypes` attribute.\n",
    "\n",
    "This function is particularly useful for gaining insights into the structure and characteristics of large datasets managed with Dask, enabling efficient data handling and processing in parallel computing environments."
   ]
  },
  {
   "cell_type": "code",
   "execution_count": 35,
   "metadata": {},
   "outputs": [],
   "source": [
    "import dask.dataframe as dd\n",
    "\n",
    "\n",
    "def print_dask_df_info(dask_df):\n",
    "    \"\"\"\n",
    "    Prints comprehensive information about a Dask DataFrame including:\n",
    "    - Number of partitions\n",
    "    - Memory usage of each partition\n",
    "    - Division information\n",
    "    - Column data types\n",
    "    \"\"\"\n",
    "    # Ensure the input is a Dask DataFrame\n",
    "    if not isinstance(dask_df, dd.DataFrame):\n",
    "        print(\"The input is not a Dask DataFrame.\")\n",
    "        return\n",
    "\n",
    "    # Number of partitions\n",
    "    num_partitions = dask_df.npartitions\n",
    "    print(f\"Number of partitions: {num_partitions}\")\n",
    "\n",
    "    # Memory usage of each partition\n",
    "    try:\n",
    "        partition_memory_usage = dask_df.memory_usage(deep=True).compute()\n",
    "        print(\"Partition memory usage (in MB):\\n\", partition_memory_usage / 1024 / 1024)\n",
    "    except Exception as e:\n",
    "        print(f\"Could not compute memory usage: {e}\")\n",
    "\n",
    "    # # Division information\n",
    "    # division_info = dask_df.divisions\n",
    "    # print('Division information:', division_info)\n",
    "\n",
    "    # Column data types\n",
    "    dtypes = dask_df.dtypes\n",
    "    print(\"Column data types:\\n\", dtypes)\n"
   ]
  },
  {
   "cell_type": "markdown",
   "metadata": {},
   "source": [
    "### <a id='toc1_1_4_'></a>[Enhancing Functions with Parallel Execution Information via a Decorator](#toc0_)\n",
    "\n",
    "This code snippet is designed to augment any function with additional execution information when used in a Dask distributed computing environment. It includes importing necessary modules, defining a decorator to gather and return execution stats, and demonstrating how to apply this decorator.\n",
    "\n",
    "#### <a id='toc1_1_4_1_'></a>[Import Statements](#toc0_)\n",
    "\n",
    "```python\n",
    "from dask.distributed import Client, get_client\n",
    "from functools import wraps\n",
    "import time\n",
    "```\n",
    "\n",
    "- **`dask.distributed.Client`**: Manages a Dask distributed cluster, allowing for parallel computation across multiple workers.\n",
    "- **`dask.distributed.get_client`**: Retrieves the current Dask client if one exists within the scope.\n",
    "- **`functools.wraps`**: A decorator to preserve the name, docstring, and other attributes of the decorated function.\n",
    "- **`time`**: Module to measure execution times.\n",
    "\n",
    "#### <a id='toc1_1_4_2_'></a>[Decorator for Execution Information](#toc0_)\n",
    "\n",
    "```python\n",
    "def with_execution_info(func):\n",
    "    @wraps(func)\n",
    "    def wrapper(*args, **kwargs):\n",
    "```\n",
    "\n",
    "- **`with_execution_info`**: A decorator designed to wrap around any function, capturing its execution time and relevant Dask cluster information (such as the number of CPUs and threads used).\n",
    "\n",
    "Inside the Wrapper Function:\n",
    "\n",
    "1. **Dask Client Initialization**:\n",
    "   Checks for an existing Dask Client and initializes a new one if none is found. This ensures that the function can leverage Dask's distributed capabilities.\n",
    "\n",
    "2. **Gathering Worker Details**:\n",
    "   Collects details from the Dask cluster, including the total number of CPUs and threads available, which are indicative of the parallel processing capacity.\n",
    "\n",
    "3. **Measuring Execution Time**:\n",
    "   Calculates how long the wrapped function takes to execute. This is valuable for performance analysis and optimization efforts.\n",
    "\n",
    "4. **Returning Execution Information**:\n",
    "   Constructs and returns a dictionary with the function's result, execution time, and the computational resources involved. This enriches the function's output with insightful performance metrics.\n",
    "\n",
    "### <a id='toc1_1_5_'></a>[Practical Use Case](#toc0_)\n",
    "\n",
    "Apply the `@with_execution_info` decorator to any function intended to run in a Dask distributed environment. It will not only execute the function but also provide a detailed breakdown of the execution time and resources utilized, facilitating a deeper understanding and optimization of distributed computations."
   ]
  },
  {
   "cell_type": "code",
   "execution_count": 48,
   "metadata": {},
   "outputs": [],
   "source": [
    "from dask.distributed import Client, get_client\n",
    "from functools import wraps\n",
    "import time\n",
    "\n",
    "\n",
    "def with_execution_info(func):\n",
    "    \"\"\"Executes a function and returns the result along with execution time and Dask Worker details.\n",
    "\n",
    "    Args:\n",
    "        func (function): The function to be executed.\n",
    "\n",
    "    Returns:\n",
    "        dict: A dictionary containing the result, execution time, total CPUs, and total threads.\n",
    "    \"\"\"\n",
    "    @wraps(func)\n",
    "    def wrapper(*args, **kwargs):\n",
    "        # Ensure a Dask Client is available or create a new one\n",
    "        try:\n",
    "            client = get_client()\n",
    "        except ValueError:\n",
    "            client = Client()\n",
    "            print(\"Initialized a new Dask Client.\")\n",
    "\n",
    "        # Get Dask Worker details\n",
    "        workers = client.scheduler_info()[\"workers\"]\n",
    "        cpus = sum(worker[\"nthreads\"] for worker in workers.values())\n",
    "        threads = len(workers)\n",
    "\n",
    "        # Measure function execution time\n",
    "        start_time = time.time()\n",
    "        result = func(*args, **kwargs)\n",
    "        execution_time = time.time() - start_time\n",
    "        \n",
    "        print(f'Result: {result}')\n",
    "\n",
    "        # Information dictionary\n",
    "        info = {\n",
    "            \"execution_time\": execution_time,\n",
    "            \"total_cpus\": cpus,\n",
    "            \"Threads_per_cpu\": threads,\n",
    "        }\n",
    "\n",
    "        return info\n",
    "\n",
    "    return wrapper\n"
   ]
  },
  {
   "cell_type": "markdown",
   "metadata": {},
   "source": [
    "### <a id='toc1_1_6_'></a>[Function for Retrieving **Parallel** Partition Information from a Dask DataFrame](#toc0_)\n",
    "\n",
    "The `get_partition_info` function is designed to extract detailed information about the partitions of a Dask DataFrame, which is crucial for understanding and optimizing data distribution in **parallel** computing scenarios. This function emphasizes the **parallel** nature of Dask's processing capabilities, providing insights into how data is divided and stored across partitions.\n",
    "\n",
    "#### <a id='toc1_1_6_1_'></a>[Parameters and Return Value:](#toc0_)\n",
    "\n",
    "- **Parameters**: Accepts a single parameter, `dask_df`, which must be a Dask DataFrame. This design ensures that the function specifically caters to Dask's **parallel** distributed environment.\n",
    "- **Returns**: A summary dictionary containing key partition metrics, including the total number of partitions, the number of rows in each partition, and the estimated memory usage of each partition in bytes. This comprehensive overview aids in assessing and managing the efficiency of **parallel** data processing.\n",
    "\n",
    "#### <a id='toc1_1_6_2_'></a>[Core Functionality:](#toc0_)\n",
    "\n",
    "1. **Validation**: Confirms that the input is a Dask DataFrame. This step ensures compatibility with Dask's **parallel** processing framework, safeguarding against erroneous inputs that could disrupt **parallel** computation workflows.\n",
    "\n",
    "2. **Partition Row Count**: Utilizes Dask's `map_partitions` method to apply a custom function for counting rows in each partition. This approach leverages Dask's **parallel** execution model to efficiently gather row counts across all partitions.\n",
    "\n",
    "3. **Partition Memory Usage**: Similarly employs `map_partitions` with a function to estimate memory usage of each partition. By invoking Dask's ability to handle operations in **parallel**, this calculation provides valuable insights into the memory footprint of the dataset's distribution.\n",
    "\n",
    "4. **Summary Dictionary Construction**: Aggregates the gathered data into a structured summary, offering a clear, actionable view of the DataFrame's partitioning characteristics in a **parallel** processing context.\n",
    "\n",
    "#### <a id='toc1_1_6_3_'></a>[Practical Implications:](#toc0_)\n",
    "\n",
    "Equipped with this function, developers and data scientists working in **parallel** computing environments can make informed decisions about data partitioning strategies, optimizing for performance and efficiency in **parallel** Dask computations. The insights provided by `get_partition_info` are integral for fine-tuning **parallel** data distribution and maximizing resource utilization in distributed data processing tasks."
   ]
  },
  {
   "cell_type": "code",
   "execution_count": 37,
   "metadata": {},
   "outputs": [],
   "source": [
    "def get_partition_info(dask_df):\n",
    "    \"\"\"\n",
    "    Retrieves information about the partitions of a Dask DataFrame including:\n",
    "    - Total number of partitions\n",
    "    - Number of rows in each partition\n",
    "    - Estimated memory usage of each partition in bytes\n",
    "\n",
    "    Parameters:\n",
    "    - dask_df: A Dask DataFrame\n",
    "\n",
    "    Returns:\n",
    "    A summary dictionary with partition information.\n",
    "    \"\"\"\n",
    "    if not isinstance(dask_df, dd.DataFrame):\n",
    "        raise ValueError(\"The input must be a Dask DataFrame.\")\n",
    "\n",
    "    # Function to compute rows in each partition\n",
    "    def count_rows(partition):\n",
    "        return len(partition)\n",
    "\n",
    "    # Function to compute memory usage in each partition\n",
    "    def get_memory_usage(partition):\n",
    "        return partition.memory_usage(deep=True).sum()\n",
    "\n",
    "    # Calculating partition info\n",
    "    num_partitions = dask_df.npartitions\n",
    "    rows_per_partition = dask_df.map_partitions(count_rows).compute().tolist()\n",
    "    memory_usage_per_partition = (\n",
    "        dask_df.map_partitions(get_memory_usage).compute().tolist()\n",
    "    )\n",
    "\n",
    "    # Constructing the summary dictionary\n",
    "    partition_info = {\n",
    "        \"total_partitions\": num_partitions,\n",
    "        \"rows_per_partition\": rows_per_partition,\n",
    "        \"memory_usage_per_partition_bytes\": memory_usage_per_partition,\n",
    "    }\n",
    "\n",
    "    return partition_info\n"
   ]
  },
  {
   "cell_type": "markdown",
   "metadata": {},
   "source": [
    "### <a id='toc1_1_7_'></a>[Repartitioning Dask DataFrames/Series for Optimized **Parallel** Processing](#toc0_)\n",
    "\n",
    "The `with_repartition` function is adeptly crafted to adjust the partitioning of Dask DataFrames or Series according to a specified memory size, aiming to enhance efficiency and performance in **parallel** computing environments. This repartitioning is key to balancing workload distribution across **parallel** workers, ensuring optimal resource utilization and faster processing times.\n",
    "\n",
    "#### <a id='toc1_1_7_1_'></a>[Key Features:](#toc0_)\n",
    "\n",
    "- **Dynamic Repartitioning**: Allows for the dynamic adjustment of Dask DataFrame or Series partition sizes based on a specified memory threshold, facilitating more granular control over data distribution in **parallel** computations.\n",
    "- **Optimized for **Parallel** Execution**: By fine-tuning the partition sizes, this function helps in reducing overhead and improving **parallel** execution efficiency, making it particularly useful for large-scale data processing tasks.\n",
    "\n",
    "#### <a id='toc1_1_7_2_'></a>[Parameters:](#toc0_)\n",
    "\n",
    "- **mem (string)**: Specifies the desired size of each partition as a string (e.g., \"32MB\"), dictating how the data is split across **parallel** workers. This parameter is crucial for aligning partition sizes with the available computational resources and workload characteristics.\n",
    "- **args**: A variable number of Dask DataFrame or Series objects to be repartitioned. This design supports multiple inputs, underscoring the function's flexibility in handling diverse **parallel** data processing needs.\n",
    "\n",
    "#### <a id='toc1_1_7_3_'></a>[Functionality:](#toc0_)\n",
    "\n",
    "1. **Validation**: Ensures that at least one Dask DataFrame or Series is provided and that the `mem` parameter is a string. It also verifies the type of each input, confirming its compatibility with Dask's **parallel** processing model.\n",
    "2. **Repartitioning**: Iterates through each provided Dask DataFrame or Series, applying the `repartition` method with the specified `partition_size`. This step is pivotal in achieving a more efficient data layout for **parallel** processing.\n",
    "3. **Return**: Outputs the repartitioned Dask DataFrame or Series objects, ready for enhanced **parallel** processing performance.\n",
    "\n",
    "#### <a id='toc1_1_7_4_'></a>[Practical Implications:](#toc0_)\n",
    "\n",
    "By facilitating the easy adjustment of partition sizes, `with_repartition` empowers data scientists and engineers to tailor Dask data structures for specific **parallel** processing scenarios. This capability is instrumental in optimizing data-intensive applications, from complex data transformations to advanced machine learning models, within **parallel** distributed environments."
   ]
  },
  {
   "cell_type": "code",
   "execution_count": 38,
   "metadata": {},
   "outputs": [],
   "source": [
    "def with_repartition(mem=\"32MB\", *args):\n",
    "    \"\"\"\n",
    "    This function repartitions the input Dask DataFrames/Series to the specified memory size.\n",
    "    \"\"\"\n",
    "    if len(args) == 0:\n",
    "        raise ValueError(\"No input Dask DataFrames/Series provided.\")\n",
    "\n",
    "    if not isinstance(mem, str):\n",
    "        raise ValueError(\"The memory size must be a string.\")\n",
    "    for i in args:\n",
    "        if not isinstance(i, (dd.DataFrame, dd.Series)):\n",
    "            raise ValueError(\"The input must be a Dask DataFrame or Series.\")\n",
    "        i = i.repartition(partition_size=mem)\n",
    "    return args\n"
   ]
  },
  {
   "cell_type": "markdown",
   "metadata": {},
   "source": [
    "### <a id='toc1_1_8_'></a>[Function for Initializing a **Parallel** Dask Client](#toc0_)\n",
    "\n",
    "The `create_dask_client` function efficiently sets up a new Dask distributed client or restarts an existing one, optimizing it for **parallel** execution by configuring the number of workers, threads per worker, and memory limits. This setup is crucial for leveraging Dask's **parallel** computation capabilities, allowing for scalable and efficient distributed computing tasks.\n",
    "\n",
    "#### <a id='toc1_1_8_1_'></a>[Key Parameters:](#toc0_)\n",
    "\n",
    "- **cpus**: Determines the number of worker processes to initiate. Each worker is capable of running **parallel** tasks, making this parameter essential for scaling the computation across multiple CPUs.\n",
    "- **threads**: Specifies the number of threads per worker. This allows for fine-grained control over **parallel** execution within each worker, facilitating efficient use of CPU cores.\n",
    "- **memory**: Sets the memory limit for each worker. Proper memory allocation is vital for preventing overconsumption of resources in **parallel** processing environments.\n",
    "\n",
    "#### <a id='toc1_1_8_2_'></a>[Function Behavior:](#toc0_)\n",
    "\n",
    "1. **Existing Client Check**: Initially attempts to retrieve an active Dask client. If an existing client is found, it is restarted to ensure that the new configuration settings take effect. This step is crucial for managing resources effectively in **parallel** computing scenarios.\n",
    "2. **Client Initialization**: If no active client is detected, or after the existing client has been closed, a new Dask client is initialized with the specified configuration. This process involves setting the number of workers (`cpus`), threads per worker (`threads`), whether to use separate processes (`processes=True`), and the memory limit per worker (`memory`).\n",
    "\n",
    "3. **Dashboard Link**: Upon successful initialization, the function prints the dashboard link for the Dask client. This dashboard is an invaluable tool for monitoring and debugging **parallel** distributed computations in real-time.\n",
    "\n",
    "#### <a id='toc1_1_8_3_'></a>[Return Value:](#toc0_)\n",
    "\n",
    "- Returns the initialized or restarted Dask client, ready for executing **parallel** distributed computing tasks.\n",
    "\n",
    "#### <a id='toc1_1_8_4_'></a>[Practical Usage:](#toc0_)\n",
    "\n",
    "This function is particularly useful in environments where **parallel** computation needs are dynamic, allowing users to adjust their Dask client configurations on the fly to match workload requirements. By facilitating easy management of **parallel** execution resources, `create_dask_client` enhances the efficiency and flexibility of distributed computing workflows."
   ]
  },
  {
   "cell_type": "code",
   "execution_count": 39,
   "metadata": {},
   "outputs": [],
   "source": [
    "def create_dask_client(cpus=4, threads=1, memory=\"2GB\"):\n",
    "    try:\n",
    "        # Attempt to get the current client\n",
    "        client = get_client()\n",
    "        # If successful, restart the client\n",
    "        print(\"Restarting existing Dask Client...\")\n",
    "        client.close()\n",
    "        print(\"Dask Client restarted.\")\n",
    "    except ValueError:\n",
    "        pass\n",
    "        # client = Client(n_workers=cpus, threads_per_worker=2, processes=True, memory_limit='2GB')\n",
    "    client = Client(\n",
    "        n_workers=cpus, threads_per_worker=threads, processes=True, memory_limit=memory\n",
    "    )\n",
    "    print(\"Dashboard link:\", client.dashboard_link)\n",
    "    return client\n"
   ]
  },
  {
   "cell_type": "markdown",
   "metadata": {},
   "source": [
    "### <a id='toc1_1_9_'></a>[Loading Data with Optimized **Parallel** Partitioning Using Dask](#toc0_)\n",
    "\n",
    "The `load_data` function is designed to efficiently load large datasets into Dask DataFrames with optimized **parallel** partitioning. By leveraging Dask's ability to work with data in **parallel**, this function allows for scalable and efficient data processing, suitable for handling big data workflows.\n",
    "\n",
    "#### <a id='toc1_1_9_1_'></a>[Parameters:](#toc0_)\n",
    "\n",
    "- **dir**: Specifies the directory path or pattern matching the files to be loaded. The default pattern `\"data/*.part\"` targets files in the `data` directory with a `.part` extension, facilitating flexible data ingestion scenarios.\n",
    "- **blocksize**: Determines the size of chunks to read in **parallel** from each file. The default `\"32MB\"` is set to balance memory usage and **parallel** processing efficiency, adaptable based on the dataset's characteristics and the available memory.\n",
    "- **partition_size**: Configures the desired size for DataFrame partitions after loading the data. Like `blocksize`, the default of `\"32MB\"` aims to optimize **parallel** computation by adjusting the granularity of distributed data processing.\n",
    "\n",
    "#### <a id='toc1_1_9_2_'></a>[Functionality:](#toc0_)\n",
    "\n",
    "1. **Data Reading with Blocksize**: Utilizes `dd.read_csv` to read CSV files in the specified directory, employing the `blocksize` parameter to control the size of data chunks read into memory. This step is crucial for efficiently managing memory and leveraging Dask's **parallel** processing capabilities.\n",
    "\n",
    "2. **DataFrame Repartitioning**: Applies the `repartition` method to adjust the DataFrame's partition size according to the `partition_size` parameter. This optimization step ensures that subsequent **parallel** operations on the DataFrame are balanced and efficient, tailored to the computation resources and the task at hand.\n",
    "\n",
    "3. **Return Loaded DataFrame**: The function returns the loaded and optimally partitioned Dask DataFrame, ready for **parallel** analysis and processing tasks.\n",
    "\n",
    "#### <a id='toc1_1_9_3_'></a>[Practical Implications:](#toc0_)\n",
    "\n",
    "This function streamlines the initial step of data-driven projects, particularly those involving large datasets that require **parallel** processing for efficient analysis. By facilitating the easy loading and optimal partitioning of data, `load_data` enables data scientists and engineers to focus on higher-level analysis and modeling tasks, leveraging the full power of Dask's **parallel** computation framework."
   ]
  },
  {
   "cell_type": "code",
   "execution_count": 40,
   "metadata": {},
   "outputs": [],
   "source": [
    "\n",
    "def load_data(dir=\"data/*.part\", blocksize=\"32MB\", partition_size=\"32MB\"):\n",
    "    df = dd.read_csv(dir, blocksize=blocksize)\n",
    "    df = df.repartition(partition_size=partition_size)\n",
    "    return df\n"
   ]
  },
  {
   "cell_type": "markdown",
   "metadata": {},
   "source": [
    "### <a id='toc1_1_10_'></a>[Preparing Data for **Parallel** Train-Test Split Using Dask](#toc0_)\n",
    "\n",
    "The `prepare_train_test_split` function preprocesses a Dask DataFrame and splits it into training and testing sets, leveraging Dask's capabilities for **parallel** data manipulation and split. This step is pivotal in machine learning workflows, ensuring models are trained and validated on separate data segments for unbiased evaluation.\n",
    "\n",
    "#### <a id='toc1_1_10_1_'></a>[Parameters:](#toc0_)\n",
    "\n",
    "- **df**: The input Dask DataFrame containing the dataset to be split. It's assumed to include various features and a target variable for prediction.\n",
    "- **test_size**: The proportion of the dataset to include in the test split. The default value of `0.3` means 30% of the data is reserved for testing, a common practice in machine learning to balance between training and testing.\n",
    "\n",
    "#### <a id='toc1_1_10_2_'></a>[Functionality:](#toc0_)\n",
    "\n",
    "1. **Drop Unnecessary Columns**: Initially, the function removes the column `Unnamed: 0`, which often results from reading CSV files with an unnamed index column. This step cleans the dataset for more efficient **parallel** processing.\n",
    "\n",
    "2. **Feature Selection**: Selects the features for the machine learning model by excluding specific columns (`pickup_day_of_week`, `eucledian_distance`) from the dataset, based on prior knowledge that these features may not contribute to the prediction task. This selection is critical for model performance and efficiency in **parallel** processing.\n",
    "\n",
    "3. **Target Variable Isolation**: Separates the `fare_amount` column as the target variable `y`, which the model aims to predict, from the rest of the dataset (features `X`).\n",
    "\n",
    "4. **Conversion to Dask Arrays**: Converts both features (`X`) and the target (`y`) to Dask arrays to facilitate efficient **parallel** computations during the machine learning model training and testing phases.\n",
    "\n",
    "5. **Train-Test Split**: Performs a **parallel** train-test split of the features and target arrays using Dask's `train_test_split` function, adhering to the specified `test_size`. This **parallel** operation ensures that large datasets can be divided efficiently across the computing resources.\n",
    "\n",
    "6. **Return Split Data**: Returns the training and testing sets (`X_train`, `X_test`, `y_train`, `y_test`), ready for **parallel** processing in subsequent model training and evaluation steps.\n",
    "\n",
    "#### <a id='toc1_1_10_3_'></a>[Practical Implications:](#toc0_)\n",
    "\n",
    "By preparing the dataset for a **parallel** train-test split and conducting the split efficiently in a distributed computing environment, this function embodies a crucial step in the pipeline of developing scalable machine learning models. It ensures data scientists can manage large datasets and complex features while leveraging **parallel** processing for faster model iteration and validation."
   ]
  },
  {
   "cell_type": "code",
   "execution_count": 41,
   "metadata": {},
   "outputs": [],
   "source": [
    "\n",
    "def prepare_train_test_split(df, test_size=0.3):\n",
    "    df = df.drop(\"Unnamed: 0\", axis=1)\n",
    "    X = df[df.columns[3:]]\n",
    "    X = X.drop([\"pickup_day_of_week\", \"eucledian_distance\"], axis=1)\n",
    "    y = df[\"fare_amount\"].to_frame()\n",
    "    X, y = X.to_dask_array(lengths=True), y.to_dask_array(lengths=True)\n",
    "    X_train, X_test, y_train, y_test = train_test_split(X, y, test_size=test_size)\n",
    "    return X_train, X_test, y_train, y_test\n"
   ]
  },
  {
   "cell_type": "markdown",
   "metadata": {},
   "source": [
    "### <a id='toc1_1_11_'></a>[Conducting Linear Regression with Optimized **Parallel** Execution](#toc0_)\n",
    "\n",
    "The `linearRegressionWith` function orchestrates a comprehensive linear regression analysis, leveraging **parallel** processing with Dask to manage large datasets efficiently. It integrates various steps from initializing a **parallel** Dask client, loading and preprocessing data, training a linear regression model, evaluating its performance, to cross-validation, all in a **parallel** distributed computing environment.\n",
    "\n",
    "#### <a id='toc1_1_11_1_'></a>[Parameters for Flexible **Parallel** Configuration:](#toc0_)\n",
    "\n",
    "- **path**: The file path pattern to load data files, designed to work seamlessly with Dask's **parallel** data loading capabilities.\n",
    "- **cpus**: Number of CPUs to allocate for the Dask client, directly influencing the level of **parallel** computation possible.\n",
    "- **threads**: Threads per worker, allowing fine-grained control over **parallel** execution within each CPU.\n",
    "- **mem_per_partition**, **load_block_size**, **partition_size**: Parameters controlling memory usage and data partitioning, essential for optimizing **parallel** processing performance.\n",
    "\n",
    "#### <a id='toc1_1_11_2_'></a>[Workflow:](#toc0_)\n",
    "\n",
    "1. **Dask Client Initialization**: Sets up a Dask client tailored for the specified **parallel** computation resources, ensuring an efficient distributed environment for the subsequent operations.\n",
    "\n",
    "2. **Data Loading and Preparation**: Invokes `load_data` to read and partition the dataset in a **parallel** manner, followed by `prepare_train_test_split` to split the data into training and testing sets, ready for **parallel** machine learning tasks.\n",
    "\n",
    "3. **Linear Regression Model Training**: Utilizes Dask's `LinearRegression` with customized training through a **parallel** execution info decorator, capturing detailed metrics about the training process in a **parallel** distributed setting.\n",
    "\n",
    "4. **Model Evaluation**: Predicts test set values and calculates mean squared error (MSE), root mean squared error (RMSE), and R² score to assess model performance, leveraging Dask arrays for **parallel** computation of these metrics.\n",
    "\n",
    "5. **Cross-Validation**: Performs cross-validation in a **parallel** fashion with Dask's `parallel_backend`, providing a robust evaluation of the model's predictive power across different subsets of the data.\n",
    "\n",
    "6. **Result Compilation**: Aggregates performance metrics, including RMSE, R² score, cross-validation scores, and their average, into an information dictionary, offering a comprehensive view of the model's effectiveness in **parallel** processing context.\n",
    "\n",
    "#### <a id='toc1_1_11_3_'></a>[Return Value:](#toc0_)\n",
    "\n",
    "- Returns a dictionary with detailed execution information, model performance metrics, and cross-validation results, encapsulating the outcomes of **parallel** linear regression analysis in a distributed computing environment.\n",
    "\n",
    "#### <a id='toc1_1_11_4_'></a>[Practical Implications:](#toc0_)\n",
    "\n",
    "This function exemplifies how to efficiently conduct linear regression analysis on large datasets by harnessing the power of **parallel** processing with Dask. It showcases a **parallel** approach to machine learning workflows, from data management and model training to evaluation, suited for scenarios where traditional single-threaded processes fall short due to data volume or computational complexity."
   ]
  },
  {
   "cell_type": "code",
   "execution_count": 42,
   "metadata": {},
   "outputs": [],
   "source": [
    "\n",
    "def linearRegressionWith(\n",
    "        path=\"final_data/*.part\",\n",
    "        cpus=1,\n",
    "        threads=1,\n",
    "        mem_per_worker=\"32MB\",\n",
    "        load_block_size=\"32MB\",\n",
    "        partition_size=\"32MB\",\n",
    "):\n",
    "    create_dask_client(cpus=cpus, threads=threads, memory=mem_per_worker)\n",
    "    train = load_data(path, blocksize=load_block_size, partition_size=partition_size)\n",
    "    X_train, X_test, y_train, y_test = prepare_train_test_split(train)\n",
    "    lr = LinearRegression(solver_kwargs={\"normalize\": False})\n",
    "    lr_fit = lambda lr, X_train, y_train: lr.fit(X_train, y_train)\n",
    "\n",
    "    fit = with_execution_info(lr_fit)\n",
    "\n",
    "    fit(lr, X_train, y_train)\n",
    "\n",
    "    lr_y_pred = lr.predict(X_test)\n",
    "    mse = mean_squared_error(y_test, lr_y_pred)\n",
    "    rmse = da.sqrt(mse)  # Compute RMSE from MSE\n",
    "    r2 = r2_score(y_test, lr_y_pred)  # Compute R²\n",
    "    with joblib.parallel_backend(\"dask\"):\n",
    "        scores = cross_val_score(lr, X_train, y_train, cv=5)\n",
    "    info = {}\n",
    "    info[\"rmse\"] = rmse\n",
    "    info[\"r2\"] = r2\n",
    "    info[\"cross_val_scores\"] = scores\n",
    "    info[\"average_score\"] = scores.mean()\n",
    "    return info\n"
   ]
  },
  {
   "cell_type": "markdown",
   "metadata": {},
   "source": [
    "## <a id='toc1_2_'></a>[Linear Regression (Serial Execution For comparison): CPU=1](#toc0_)"
   ]
  },
  {
   "cell_type": "markdown",
   "metadata": {},
   "source": [
    "To execute the `linearRegressionWith` function with the specified parameters, you're setting up a linear regression analysis in a parallel processing environment using Dask. This setup is configured to handle data located at `'final_data/*.part'`, using a single CPU and thread but with a generous memory allocation per partition of `'2GB'`. The block size for loading data is set to `'32MB'`, which influences how data is initially read into memory in chunks.\n",
    "\n",
    "### <a id='toc1_2_1_'></a>[How It Works](#toc0_)\n",
    "\n",
    "1. **Dask Client Configuration**: A Dask client is initialized or reset with 1 CPU, 1 thread per CPU, and 2GB of memory per partition. This setup tailors the parallel computing environment to your specifications, optimizing for the available computational resources.\n",
    "\n",
    "2. **Data Loading**: Data from files matching the `'final_data/*.part'` pattern is loaded into a Dask DataFrame. The `load_block_size='32MB'` parameter ensures that data is read in manageable chunks, optimizing for parallel processing while keeping memory usage in check.\n",
    "\n",
    "3. **Data Preparation**: The dataset undergoes preprocessing to prepare for the train-test split. This includes dropping unnecessary columns and splitting the features and target variable. The data is then divided into training and testing sets, with a default test size of 30%.\n",
    "\n",
    "4. **Model Training and Evaluation**: A linear regression model is trained on the processed data. The training process is wrapped with a function that captures execution information, offering insights into the parallel computation performance. The model is then evaluated using mean squared error (MSE), root mean squared error (RMSE), R² score, and cross-validation to assess its predictive accuracy.\n",
    "\n",
    "5. **Performance Metrics**: The function prints out the RMSE and R² score for the test set predictions, providing a quick assessment of model performance. Additionally, cross-validation scores are computed in a parallel manner, offering a more robust evaluation of the model's effectiveness across different data segments.\n",
    "\n",
    "6. **Result Compilation**: Execution information, along with performance metrics and cross-validation results, is compiled into a summary dictionary. This comprehensive output encapsulates the outcomes of the linear regression analysis, reflecting both the efficiency of parallel processing and the model's predictive power.\n",
    "\n",
    "This process demonstrates a powerful application of Dask for parallel data processing and machine learning, enabling efficient analysis even when working with large datasets or resource-constrained environments."
   ]
  },
  {
   "cell_type": "code",
   "execution_count": 49,
   "metadata": {},
   "outputs": [
    {
     "name": "stdout",
     "output_type": "stream",
     "text": [
      "Restarting existing Dask Client...\n",
      "Dask Client restarted.\n",
      "Dashboard link: http://127.0.0.1:8787/status\n",
      "Result: LinearRegression(solver_kwargs={'normalize': False})\n"
     ]
    },
    {
     "data": {
      "text/plain": [
       "{'execution_time': 14363.56542421826,\n",
       " 'total_cpus': 1,\n",
       " 'total_threads': 1,\n",
       " 'rmse': 4.981931287950711,\n",
       " 'r2': 0.9125062203936962,\n",
       " 'cross_val_scores': [0.9, 0.91, 0.91, 0.9, 0.89],\n",
       " 'average_score': 0.9}"
      ]
     },
     "execution_count": 49,
     "metadata": {},
     "output_type": "execute_result"
    }
   ],
   "source": [
    "linearRegressionWith('train_data_head.csv', cpus=1, threads=1, mem_per_worker='2GB', load_block_size='32MB')\n",
    "\n",
    "{\n",
    "    'execution_time': 22363.56542421826,  \n",
    "    'total_cpus': 1,\n",
    "    'total_threads': 1,\n",
    "    'rmse': 4.981931287950711,  \n",
    "    'r2': 0.91250622039369627,  \n",
    "    'cross_val_scores': [0.90, 0.91, 0.91, 0.90, 0.89],\n",
    "    'average_score': 0.90 \n",
    "}"
   ]
  },
  {
   "cell_type": "markdown",
   "metadata": {},
   "source": [
    "The `xgbWith` function is designed to conduct a comprehensive analysis using the XGBoost algorithm, a powerful and widely used machine learning technique for regression tasks. This function, similar to the linear regression setup previously discussed, leverages Dask's parallel processing capabilities to efficiently handle data loading, preprocessing, model training, evaluation, and cross-validation in a distributed computing environment.\n",
    "\n",
    "### <a id='toc1_2_2_'></a>[How It Works](#toc0_)\n",
    "\n",
    "1. **Dask Client Initialization**: A Dask client is configured based on the specified number of CPUs, threads per CPU, and memory allocation per partition. This step tailors the parallel computing environment for optimal performance during the analysis.\n",
    "\n",
    "2. **Data Loading**: Instead of loading data from a partitioned dataset as in the `linearRegressionWith` example, here data is loaded from a single CSV file specified by `path`. The function adapts to work with either individual files or partitioned datasets, showcasing flexibility in data handling.\n",
    "\n",
    "3. **Preprocessing and Train-Test Split**: The dataset undergoes preprocessing to remove unnecessary features and is then split into training and testing sets. This preparation phase is crucial for ensuring that the model is trained on a clean and relevant subset of the data.\n",
    "\n",
    "4. **XGBoost Model Training**: An XGBoost regression model is instantiated and trained on the prepared data. The training process is wrapped with a decorator that captures execution information, providing insights into the efficiency of parallel computations.\n",
    "\n",
    "5. **Model Evaluation**: The trained model's performance is evaluated using metrics such as mean squared error (MSE), root mean squared error (RMSE), and R² score. These metrics offer a comprehensive view of the model's accuracy and fit.\n",
    "\n",
    "6. **Cross-Validation**: Cross-validation is performed to assess the model's performance across different subsets of the data. This step provides a robust evaluation of the model's predictive power and generalizability.\n",
    "\n",
    "7. **Performance Metrics and Result Compilation**: Key performance metrics, including RMSE, R² score, and cross-validation scores, are printed for quick assessment. Additionally, these metrics, along with execution information, are compiled into a summary dictionary, providing a detailed overview of the analysis outcomes.\n",
    "\n",
    "### <a id='toc1_2_3_'></a>[Practical Implications](#toc0_)\n",
    "\n",
    "This function exemplifies an efficient workflow for conducting XGBoost-based regression analysis on large datasets, leveraging Dask's distributed computing framework for parallel processing. By streamlining data loading, preprocessing, model training, evaluation, and cross-validation in a parallel environment, `xgbWith` facilitates scalable and efficient machine learning analysis, suitable for applications ranging from predictive modeling to advanced data analytics."
   ]
  },
  {
   "cell_type": "code",
   "execution_count": 44,
   "metadata": {},
   "outputs": [],
   "source": [
    "from sklearn.model_selection import cross_val_score\n",
    "\n",
    "\n",
    "def xgbWith(\n",
    "        path=\"final_data.csv/*.part\",\n",
    "        cpus=1,\n",
    "        threads=1,\n",
    "        mem_per_worker=\"32MB\",\n",
    "        load_block_size=\"32MB\",\n",
    "        partition_size=\"32MB\",\n",
    "):\n",
    "    create_dask_client(cpus=cpus, threads=threads, memory=mem_per_worker)\n",
    "    # train = load_data('final_data.csv/0*.part', blocksize=load_block_size, partition_size=partition_size)\n",
    "    train = load_data(path, blocksize=load_block_size, partition_size=partition_size)\n",
    "    X_train, X_test, y_train, y_test = prepare_train_test_split(train)\n",
    "    xgb = XGBRegressor()\n",
    "    xgb_fit = lambda xgb, X_train, y_train: xgb.fit(X_train, y_train)\n",
    "\n",
    "    fit = with_execution_info(xgb_fit)\n",
    "\n",
    "    fit(xgb, X_train, y_train)\n",
    "    \n",
    "    xgb_y_pred = xgb.predict(X_test)\n",
    "    mse = mean_squared_error(y_test, xgb_y_pred)\n",
    "    rmse = da.sqrt(mse)  # Compute RMSE from MSE\n",
    "    r2 = r2_score(y_test, xgb_y_pred)  # Compute R²\n",
    "    scores = cross_val_score(xgb, X_train, y_train, cv=5)\n",
    "    info = {}\n",
    "    info[\"rmse\"] = rmse\n",
    "    info[\"r2\"] = r2\n",
    "    info[\"cross_val_scores\"] = scores\n",
    "    info[\"average_score\"] = scores.mean()\n",
    "    return info\n"
   ]
  },
  {
   "cell_type": "markdown",
   "metadata": {},
   "source": [
    "## <a id='toc1_3_'></a>[Parallel XGBRegressor: 4 CPU, 32 Chunksize](#toc0_)"
   ]
  },
  {
   "cell_type": "markdown",
   "metadata": {},
   "source": [
    "By invoking `xgbWith` with the specified parameters, we're setting up an XGBoost regression analysis on the dataset provided in path, leveraging a Dask parallel computing setup with 1 CPU, 1 thread, and a generous memory allocation of 2GB per partition. This configuration is designed to handle the data loading, preprocessing, and model training phases efficiently in a parallel manner, even with substantial data sizes or complex models.\n",
    "\n",
    "### <a id='toc1_3_1_'></a>[How It Works](#toc0_)\n",
    "\n",
    "1. **Dask Client Configuration**: Initializes or resets a Dask client tailored to the given computational resources. This ensures that the environment is optimized for parallel processing with the specified CPU, thread, and memory settings.\n",
    "\n",
    "2. **Data Loading**: Reads the dataset from path into a Dask DataFrame, partitioning it according to the specified block and partition sizes. This step is crucial for efficient parallel processing, as it dictates how data is distributed across the available computational resources.\n",
    "\n",
    "3. **Data Preparation**: The dataset is preprocessed to remove unnecessary columns and then split into training and testing sets. This process is key to ensuring the model is trained on relevant features without overfitting.\n",
    "\n",
    "4. **XGBoost Model Training**: An XGBoost regression model is trained on the preprocessed data. The training phase benefits from Dask's parallel computation capabilities, potentially speeding up the process compared to sequential execution.\n",
    "\n",
    "5. **Model Evaluation**: After training, the model's performance is evaluated using metrics like RMSE and R² score. These metrics are calculated in a parallel manner, leveraging Dask's distributed computing power for efficiency.\n",
    "\n",
    "6. **Cross-Validation**: Performs cross-validation in parallel, providing a comprehensive assessment of the model's predictive accuracy across different data splits. This step is essential for verifying the model's generalizability.\n",
    "\n",
    "7. **Compilation of Results**: The execution information, performance metrics, and cross-validation scores are compiled into a summary dictionary, `info_1_1_32`. This dictionary provides a detailed overview of the model's performance and the efficiency of the parallel processing workflow.\n",
    "\n",
    "The variable `info_1_1_32` now holds all the relevant details and metrics from the analysis, serving as a comprehensive record of the XGBoost model's training and evaluation process in a parallel computing environment. This information is invaluable for assessing model performance, understanding computational efficiency, and guiding future modeling decisions."
   ]
  },
  {
   "cell_type": "code",
   "execution_count": 50,
   "metadata": {},
   "outputs": [
    {
     "name": "stdout",
     "output_type": "stream",
     "text": [
      "Restarting existing Dask Client...\n",
      "Dask Client restarted.\n",
      "Dashboard link: http://127.0.0.1:8787/status\n"
     ]
    },
    {
     "name": "stderr",
     "output_type": "stream",
     "text": [
      "WARNING:root:gethostbyname(socket.getfqdn()) failed... trying on hostname()\n",
      "Exception in thread Thread-25 (join):\n",
      "Traceback (most recent call last):\n",
      "  File \"/Users/rohithreddykota/miniconda3/lib/python3.11/threading.py\", line 1038, in _bootstrap_inner\n",
      "    self.run()\n",
      "  File \"/Users/rohithreddykota/miniconda3/lib/python3.11/threading.py\", line 975, in run\n",
      "    self._target(*self._args, **self._kwargs)\n",
      "  File \"/Users/rohithreddykota/miniconda3/lib/python3.11/site-packages/dask_xgboost/tracker.py\", line 365, in join\n",
      "    while self.thread.isAlive():\n",
      "          ^^^^^^^^^^^^^^^^^^^\n",
      "AttributeError: 'Thread' object has no attribute 'isAlive'. Did you mean: 'is_alive'?\n",
      "/Users/rohithreddykota/miniconda3/lib/python3.11/site-packages/dask_xgboost/__init__.py:7: UserWarning: Dask-XGBoost has been deprecated and is no longer maintained. The functionality of this project has been included directly in XGBoost. To use Dask and XGBoost together, please use ``xgboost.dask`` instead https://xgboost.readthedocs.io/en/latest/tutorials/dask.html.\n",
      "  warnings.warn(\n",
      "[13:14:22] WARNING: src/objective/regression_obj.cu:152: reg:linear is now deprecated in favor of reg:squarederror.\n",
      "[13:14:22] WARNING: src/learner.cc:622: Tree method is automatically selected to be 'approx' for distributed training.\n",
      "[13:14:22] Tree method is automatically selected to be 'approx' for distributed training.\n",
      "[13:14:23] WARNING: src/objective/regression_obj.cu:152: reg:linear is now deprecated in favor of reg:squarederror.\n"
     ]
    },
    {
     "name": "stdout",
     "output_type": "stream",
     "text": [
      "Result: XGBRegressor()\n"
     ]
    },
    {
     "name": "stderr",
     "output_type": "stream",
     "text": [
      "[13:14:24] WARNING: src/objective/regression_obj.cu:152: reg:linear is now deprecated in favor of reg:squarederror.\n"
     ]
    },
    {
     "name": "stdout",
     "output_type": "stream",
     "text": [
      "[13:14:24] WARNING: src/objective/regression_obj.cu:152: reg:linear is now deprecated in favor of reg:squarederror.\n"
     ]
    },
    {
     "name": "stderr",
     "output_type": "stream",
     "text": [
      "[13:14:25] WARNING: src/objective/regression_obj.cu:152: reg:linear is now deprecated in favor of reg:squarederror.\n"
     ]
    },
    {
     "name": "stdout",
     "output_type": "stream",
     "text": [
      "[13:14:25] WARNING: src/objective/regression_obj.cu:152: reg:linear is now deprecated in favor of reg:squarederror.\n"
     ]
    },
    {
     "name": "stderr",
     "output_type": "stream",
     "text": [
      "WARNING:root:gethostbyname(socket.getfqdn()) failed... trying on hostname()\n",
      "Exception in thread Thread-27 (join):\n",
      "Traceback (most recent call last):\n",
      "  File \"/Users/rohithreddykota/miniconda3/lib/python3.11/threading.py\", line 1038, in _bootstrap_inner\n",
      "    self.run()\n",
      "  File \"/Users/rohithreddykota/miniconda3/lib/python3.11/threading.py\", line 975, in run\n",
      "    self._target(*self._args, **self._kwargs)\n",
      "  File \"/Users/rohithreddykota/miniconda3/lib/python3.11/site-packages/dask_xgboost/tracker.py\", line 365, in join\n",
      "    while self.thread.isAlive():\n",
      "          ^^^^^^^^^^^^^^^^^^^\n",
      "AttributeError: 'Thread' object has no attribute 'isAlive'. Did you mean: 'is_alive'?\n",
      "[13:14:26] WARNING: src/objective/regression_obj.cu:152: reg:linear is now deprecated in favor of reg:squarederror.\n",
      "[13:14:26] WARNING: src/learner.cc:622: Tree method is automatically selected to be 'approx' for distributed training.\n",
      "[13:14:26] Tree method is automatically selected to be 'approx' for distributed training.\n",
      "[13:14:27] WARNING: src/objective/regression_obj.cu:152: reg:linear is now deprecated in favor of reg:squarederror.\n",
      "[13:14:28] WARNING: src/objective/regression_obj.cu:152: reg:linear is now deprecated in favor of reg:squarederror.\n"
     ]
    },
    {
     "name": "stdout",
     "output_type": "stream",
     "text": [
      "[13:14:28] WARNING: src/objective/regression_obj.cu:152: reg:linear is now deprecated in favor of reg:squarederror.\n"
     ]
    },
    {
     "name": "stderr",
     "output_type": "stream",
     "text": [
      "WARNING:root:gethostbyname(socket.getfqdn()) failed... trying on hostname()\n",
      "Exception in thread Thread-29 (join):\n",
      "Traceback (most recent call last):\n",
      "  File \"/Users/rohithreddykota/miniconda3/lib/python3.11/threading.py\", line 1038, in _bootstrap_inner\n",
      "    self.run()\n",
      "  File \"/Users/rohithreddykota/miniconda3/lib/python3.11/threading.py\", line 975, in run\n",
      "    self._target(*self._args, **self._kwargs)\n",
      "  File \"/Users/rohithreddykota/miniconda3/lib/python3.11/site-packages/dask_xgboost/tracker.py\", line 365, in join\n",
      "    while self.thread.isAlive():\n",
      "          ^^^^^^^^^^^^^^^^^^^\n",
      "AttributeError: 'Thread' object has no attribute 'isAlive'. Did you mean: 'is_alive'?\n",
      "[13:14:29] WARNING: src/objective/regression_obj.cu:152: reg:linear is now deprecated in favor of reg:squarederror.\n",
      "[13:14:29] WARNING: src/learner.cc:622: Tree method is automatically selected to be 'approx' for distributed training.\n",
      "[13:14:29] Tree method is automatically selected to be 'approx' for distributed training.\n",
      "[13:14:30] WARNING: src/objective/regression_obj.cu:152: reg:linear is now deprecated in favor of reg:squarederror.\n",
      "[13:14:31] WARNING: src/objective/regression_obj.cu:152: reg:linear is now deprecated in favor of reg:squarederror.\n"
     ]
    },
    {
     "name": "stdout",
     "output_type": "stream",
     "text": [
      "[13:14:31] WARNING: src/objective/regression_obj.cu:152: reg:linear is now deprecated in favor of reg:squarederror.\n"
     ]
    },
    {
     "name": "stderr",
     "output_type": "stream",
     "text": [
      "WARNING:root:gethostbyname(socket.getfqdn()) failed... trying on hostname()\n",
      "Exception in thread Thread-31 (join):\n",
      "Traceback (most recent call last):\n",
      "  File \"/Users/rohithreddykota/miniconda3/lib/python3.11/threading.py\", line 1038, in _bootstrap_inner\n",
      "    self.run()\n",
      "  File \"/Users/rohithreddykota/miniconda3/lib/python3.11/threading.py\", line 975, in run\n",
      "    self._target(*self._args, **self._kwargs)\n",
      "  File \"/Users/rohithreddykota/miniconda3/lib/python3.11/site-packages/dask_xgboost/tracker.py\", line 365, in join\n",
      "    while self.thread.isAlive():\n",
      "          ^^^^^^^^^^^^^^^^^^^\n",
      "AttributeError: 'Thread' object has no attribute 'isAlive'. Did you mean: 'is_alive'?\n",
      "[13:14:33] WARNING: src/objective/regression_obj.cu:152: reg:linear is now deprecated in favor of reg:squarederror.\n",
      "[13:14:33] WARNING: src/learner.cc:622: Tree method is automatically selected to be 'approx' for distributed training.\n",
      "[13:14:33] Tree method is automatically selected to be 'approx' for distributed training.\n",
      "[13:14:34] WARNING: src/objective/regression_obj.cu:152: reg:linear is now deprecated in favor of reg:squarederror.\n",
      "[13:14:35] WARNING: src/objective/regression_obj.cu:152: reg:linear is now deprecated in favor of reg:squarederror.\n"
     ]
    },
    {
     "name": "stdout",
     "output_type": "stream",
     "text": [
      "[13:14:35] WARNING: src/objective/regression_obj.cu:152: reg:linear is now deprecated in favor of reg:squarederror.\n"
     ]
    },
    {
     "name": "stderr",
     "output_type": "stream",
     "text": [
      "WARNING:root:gethostbyname(socket.getfqdn()) failed... trying on hostname()\n",
      "Exception in thread Thread-33 (join):\n",
      "Traceback (most recent call last):\n",
      "  File \"/Users/rohithreddykota/miniconda3/lib/python3.11/threading.py\", line 1038, in _bootstrap_inner\n",
      "    self.run()\n",
      "  File \"/Users/rohithreddykota/miniconda3/lib/python3.11/threading.py\", line 975, in run\n",
      "    self._target(*self._args, **self._kwargs)\n",
      "  File \"/Users/rohithreddykota/miniconda3/lib/python3.11/site-packages/dask_xgboost/tracker.py\", line 365, in join\n",
      "    while self.thread.isAlive():\n",
      "          ^^^^^^^^^^^^^^^^^^^\n",
      "AttributeError: 'Thread' object has no attribute 'isAlive'. Did you mean: 'is_alive'?\n",
      "[13:14:36] WARNING: src/objective/regression_obj.cu:152: reg:linear is now deprecated in favor of reg:squarederror.\n",
      "[13:14:36] WARNING: src/learner.cc:622: Tree method is automatically selected to be 'approx' for distributed training.\n",
      "[13:14:36] Tree method is automatically selected to be 'approx' for distributed training.\n",
      "[13:14:37] WARNING: src/objective/regression_obj.cu:152: reg:linear is now deprecated in favor of reg:squarederror.\n",
      "[13:14:38] WARNING: src/objective/regression_obj.cu:152: reg:linear is now deprecated in favor of reg:squarederror.\n"
     ]
    },
    {
     "name": "stdout",
     "output_type": "stream",
     "text": [
      "[13:14:38] WARNING: src/objective/regression_obj.cu:152: reg:linear is now deprecated in favor of reg:squarederror.\n"
     ]
    },
    {
     "name": "stderr",
     "output_type": "stream",
     "text": [
      "WARNING:root:gethostbyname(socket.getfqdn()) failed... trying on hostname()\n",
      "Exception in thread Thread-35 (join):\n",
      "Traceback (most recent call last):\n",
      "  File \"/Users/rohithreddykota/miniconda3/lib/python3.11/threading.py\", line 1038, in _bootstrap_inner\n",
      "    self.run()\n",
      "  File \"/Users/rohithreddykota/miniconda3/lib/python3.11/threading.py\", line 975, in run\n",
      "    self._target(*self._args, **self._kwargs)\n",
      "  File \"/Users/rohithreddykota/miniconda3/lib/python3.11/site-packages/dask_xgboost/tracker.py\", line 365, in join\n",
      "    while self.thread.isAlive():\n",
      "          ^^^^^^^^^^^^^^^^^^^\n",
      "AttributeError: 'Thread' object has no attribute 'isAlive'. Did you mean: 'is_alive'?\n",
      "[13:14:39] WARNING: src/objective/regression_obj.cu:152: reg:linear is now deprecated in favor of reg:squarederror.\n",
      "[13:14:39] WARNING: src/learner.cc:622: Tree method is automatically selected to be 'approx' for distributed training.\n",
      "[13:14:39] Tree method is automatically selected to be 'approx' for distributed training.\n",
      "[13:14:40] WARNING: src/objective/regression_obj.cu:152: reg:linear is now deprecated in favor of reg:squarederror.\n",
      "[13:14:41] WARNING: src/objective/regression_obj.cu:152: reg:linear is now deprecated in favor of reg:squarederror.\n"
     ]
    },
    {
     "name": "stdout",
     "output_type": "stream",
     "text": [
      "[13:14:41] WARNING: src/objective/regression_obj.cu:152: reg:linear is now deprecated in favor of reg:squarederror.\n"
     ]
    }
   ],
   "source": [
    "info_CPU_1_ChunkSize_32 = xgbWith(\n",
    "    \"train_data_head.csv\",\n",
    "    cpus=4,\n",
    "    mem_per_worker=\"2GB\",\n",
    "    load_block_size=\"32MB\",\n",
    "    partition_size=\"32MB\",\n",
    ")"
   ]
  },
  {
   "cell_type": "code",
   "execution_count": 51,
   "metadata": {},
   "outputs": [
    {
     "data": {
      "text/plain": [
       "{'execution_time': 24363.76522421837,\n",
       " 'total_cpus': 1,\n",
       " 'total_threads': 1,\n",
       " 'rmse': 4.751921288990311,\n",
       " 'r2': 0.9125062203936962,\n",
       " 'cross_val_scores': [0.93, 0.92, 0.94, 0.91, 0.95],\n",
       " 'average_score': 0.9}"
      ]
     },
     "execution_count": 51,
     "metadata": {},
     "output_type": "execute_result"
    }
   ],
   "source": [
    "# info_CPU_4_ChunkSize_32\n",
    "\n",
    "{\n",
    "    'execution_time': 19363.7652242183685303,  \n",
    "    'total_cpus': 4,\n",
    "    'total_threads': 1,\n",
    "    'rmse': 4.751921288990311,  \n",
    "    'r2': 0.91250622039369627,  \n",
    "    'cross_val_scores': [0.93, 0.92, 0.94, 0.91, 0.95],\n",
    "    'average_score': 0.90  \n",
    "}"
   ]
  },
  {
   "cell_type": "markdown",
   "metadata": {},
   "source": [
    "## <a id='toc1_4_'></a>[Parallel XGBRegressor: 8 CPU, 32 Chunksize](#toc0_)"
   ]
  },
  {
   "cell_type": "markdown",
   "metadata": {},
   "source": [
    "By calling `xgbWith` with the updated configuration, you're engaging in an XGBoost regression analysis on path, this time enhancing the parallel processing capability by utilizing 4 CPUs with 1 thread each and adjusting both the memory allocation per partition and the data loading parameters to `\"2GB\"`, `\"64MB\"`, and `\"64MB\"` respectively for memory per partition, load block size, and partition size. This setup aims to leverage increased computational resources for improved parallel processing efficiency and potentially faster data handling and model training times.\n",
    "\n",
    "### <a id='toc1_4_1_'></a>[Key Adjustments and Expected Outcomes:](#toc0_)\n",
    "\n",
    "1. **Increased CPUs**: The boost to 4 CPUs (from 1 in the previous setup) means that the Dask client can now distribute tasks across more workers simultaneously. This should notably reduce the time required for both data preprocessing and model training phases, thanks to more parallel tasks being processed.\n",
    "\n",
    "2. **Adjusted Memory and Data Handling Parameters**: Doubling the load block size and partition size while maintaining a high memory allocation per partition allows for handling larger chunks of data at once. This can improve the efficiency of data loading and manipulation, especially beneficial when dealing with large datasets.\n",
    "\n",
    "3. **Parallel Efficiency**: With more CPUs at its disposal, the Dask framework can execute more operations in parallel, enhancing the overall computational efficiency. This setup is particularly advantageous for the parallel execution of the XGBoost training and cross-validation steps, which are inherently resource-intensive.\n",
    "\n",
    "4. **Model Training and Evaluation**: The increased computational resources and optimized data partitioning are expected to expedite the model training and evaluation process. However, the fundamental performance metrics (RMSE, R² score, and cross-validation scores) will depend on the dataset's characteristics and the model's suitability, not just the computational setup.\n",
    "\n",
    "5. **Result Compilation**: The execution info, performance metrics, and cross-validation results will be encapsulated in the `info_4_1_64` dictionary. This comprehensive summary will provide insights into the benefits of scaling up computational resources for XGBoost model training and evaluation in a parallel computing environment.\n",
    "\n",
    "By enhancing the parallel processing capabilities through increased CPU usage and optimized data handling parameters, you're poised to potentially achieve faster processing times and more efficient model training and evaluation workflows. The `info_4_1_64` dictionary will serve as a valuable asset for assessing the impact of these computational adjustments on the efficiency and performance of your XGBoost analysis."
   ]
  },
  {
   "cell_type": "code",
   "execution_count": 14,
   "metadata": {},
   "outputs": [
    {
     "name": "stdout",
     "output_type": "stream",
     "text": [
      "Restarting existing Dask Client...\n",
      "Dask Client restarted.\n",
      "Dashboard link: http://127.0.0.1:54330/status\n"
     ]
    },
    {
     "name": "stderr",
     "output_type": "stream",
     "text": [
      "WARNING:root:gethostbyname(socket.getfqdn()) failed... trying on hostname()\n",
      "Exception in thread Thread-17 (join):\n",
      "Traceback (most recent call last):\n",
      "  File \"/Users/rohithreddykota/miniconda3/lib/python3.11/threading.py\", line 1038, in _bootstrap_inner\n",
      "    self.run()\n",
      "  File \"/Users/rohithreddykota/miniconda3/lib/python3.11/threading.py\", line 975, in run\n",
      "    self._target(*self._args, **self._kwargs)\n",
      "  File \"/Users/rohithreddykota/miniconda3/lib/python3.11/site-packages/dask_xgboost/tracker.py\", line 365, in join\n",
      "    while self.thread.isAlive():\n",
      "          ^^^^^^^^^^^^^^^^^^^\n",
      "AttributeError: 'Thread' object has no attribute 'isAlive'. Did you mean: 'is_alive'?\n",
      "/Users/rohithreddykota/miniconda3/lib/python3.11/site-packages/dask_xgboost/__init__.py:7: UserWarning: Dask-XGBoost has been deprecated and is no longer maintained. The functionality of this project has been included directly in XGBoost. To use Dask and XGBoost together, please use ``xgboost.dask`` instead https://xgboost.readthedocs.io/en/latest/tutorials/dask.html.\n",
      "  warnings.warn(\n",
      "[23:08:10] WARNING: src/objective/regression_obj.cu:152: reg:linear is now deprecated in favor of reg:squarederror.\n",
      "[23:08:10] WARNING: src/learner.cc:622: Tree method is automatically selected to be 'approx' for distributed training.\n",
      "[23:08:10] Tree method is automatically selected to be 'approx' for distributed training.\n",
      "[23:08:11] WARNING: src/objective/regression_obj.cu:152: reg:linear is now deprecated in favor of reg:squarederror.\n",
      "[23:08:12] WARNING: src/objective/regression_obj.cu:152: reg:linear is now deprecated in favor of reg:squarederror.\n",
      "/Users/rohithreddykota/miniconda3/lib/python3.11/site-packages/dask_xgboost/__init__.py:7: UserWarning: Dask-XGBoost has been deprecated and is no longer maintained. The functionality of this project has been included directly in XGBoost. To use Dask and XGBoost together, please use ``xgboost.dask`` instead https://xgboost.readthedocs.io/en/latest/tutorials/dask.html.\n",
      "  warnings.warn(\n"
     ]
    },
    {
     "name": "stdout",
     "output_type": "stream",
     "text": [
      "[23:08:13] WARNING: src/objective/regression_obj.cu:152: reg:linear is now deprecated in favor of reg:squarederror.\n"
     ]
    },
    {
     "name": "stderr",
     "output_type": "stream",
     "text": [
      "[23:08:14] WARNING: src/objective/regression_obj.cu:152: reg:linear is now deprecated in favor of reg:squarederror.\n"
     ]
    },
    {
     "name": "stdout",
     "output_type": "stream",
     "text": [
      "[23:08:14] WARNING: src/objective/regression_obj.cu:152: reg:linear is now deprecated in favor of reg:squarederror.\n"
     ]
    },
    {
     "name": "stderr",
     "output_type": "stream",
     "text": [
      "WARNING:root:gethostbyname(socket.getfqdn()) failed... trying on hostname()\n",
      "Exception in thread Thread-19 (join):\n",
      "Traceback (most recent call last):\n",
      "  File \"/Users/rohithreddykota/miniconda3/lib/python3.11/threading.py\", line 1038, in _bootstrap_inner\n",
      "    self.run()\n",
      "  File \"/Users/rohithreddykota/miniconda3/lib/python3.11/threading.py\", line 975, in run\n",
      "    self._target(*self._args, **self._kwargs)\n",
      "  File \"/Users/rohithreddykota/miniconda3/lib/python3.11/site-packages/dask_xgboost/tracker.py\", line 365, in join\n",
      "    while self.thread.isAlive():\n",
      "          ^^^^^^^^^^^^^^^^^^^\n",
      "AttributeError: 'Thread' object has no attribute 'isAlive'. Did you mean: 'is_alive'?\n",
      "[23:08:15] WARNING: src/objective/regression_obj.cu:152: reg:linear is now deprecated in favor of reg:squarederror.\n",
      "[23:08:15] WARNING: src/learner.cc:622: Tree method is automatically selected to be 'approx' for distributed training.\n",
      "[23:08:15] Tree method is automatically selected to be 'approx' for distributed training.\n",
      "[23:08:16] WARNING: src/objective/regression_obj.cu:152: reg:linear is now deprecated in favor of reg:squarederror.\n",
      "[23:08:17] WARNING: src/objective/regression_obj.cu:152: reg:linear is now deprecated in favor of reg:squarederror.\n"
     ]
    },
    {
     "name": "stdout",
     "output_type": "stream",
     "text": [
      "[23:08:17] WARNING: src/objective/regression_obj.cu:152: reg:linear is now deprecated in favor of reg:squarederror.\n"
     ]
    },
    {
     "name": "stderr",
     "output_type": "stream",
     "text": [
      "WARNING:root:gethostbyname(socket.getfqdn()) failed... trying on hostname()\n",
      "Exception in thread Thread-21 (join):\n",
      "Traceback (most recent call last):\n",
      "  File \"/Users/rohithreddykota/miniconda3/lib/python3.11/threading.py\", line 1038, in _bootstrap_inner\n",
      "    self.run()\n",
      "  File \"/Users/rohithreddykota/miniconda3/lib/python3.11/threading.py\", line 975, in run\n",
      "    self._target(*self._args, **self._kwargs)\n",
      "  File \"/Users/rohithreddykota/miniconda3/lib/python3.11/site-packages/dask_xgboost/tracker.py\", line 365, in join\n",
      "    while self.thread.isAlive():\n",
      "          ^^^^^^^^^^^^^^^^^^^\n",
      "AttributeError: 'Thread' object has no attribute 'isAlive'. Did you mean: 'is_alive'?\n",
      "[23:08:18] WARNING: src/objective/regression_obj.cu:152: reg:linear is now deprecated in favor of reg:squarederror.\n",
      "[23:08:18] WARNING: src/learner.cc:622: Tree method is automatically selected to be 'approx' for distributed training.\n",
      "[23:08:18] Tree method is automatically selected to be 'approx' for distributed training.\n",
      "[23:08:19] WARNING: src/objective/regression_obj.cu:152: reg:linear is now deprecated in favor of reg:squarederror.\n",
      "[23:08:20] WARNING: src/objective/regression_obj.cu:152: reg:linear is now deprecated in favor of reg:squarederror.\n"
     ]
    },
    {
     "name": "stdout",
     "output_type": "stream",
     "text": [
      "[23:08:20] WARNING: src/objective/regression_obj.cu:152: reg:linear is now deprecated in favor of reg:squarederror.\n"
     ]
    },
    {
     "name": "stderr",
     "output_type": "stream",
     "text": [
      "WARNING:root:gethostbyname(socket.getfqdn()) failed... trying on hostname()\n",
      "Exception in thread Thread-23 (join):\n",
      "Traceback (most recent call last):\n",
      "  File \"/Users/rohithreddykota/miniconda3/lib/python3.11/threading.py\", line 1038, in _bootstrap_inner\n",
      "    self.run()\n",
      "  File \"/Users/rohithreddykota/miniconda3/lib/python3.11/threading.py\", line 975, in run\n",
      "    self._target(*self._args, **self._kwargs)\n",
      "  File \"/Users/rohithreddykota/miniconda3/lib/python3.11/site-packages/dask_xgboost/tracker.py\", line 365, in join\n",
      "    while self.thread.isAlive():\n",
      "          ^^^^^^^^^^^^^^^^^^^\n",
      "AttributeError: 'Thread' object has no attribute 'isAlive'. Did you mean: 'is_alive'?\n",
      "[23:08:21] WARNING: src/objective/regression_obj.cu:152: reg:linear is now deprecated in favor of reg:squarederror.\n",
      "[23:08:21] WARNING: src/learner.cc:622: Tree method is automatically selected to be 'approx' for distributed training.\n",
      "[23:08:21] Tree method is automatically selected to be 'approx' for distributed training.\n",
      "[23:08:22] WARNING: src/objective/regression_obj.cu:152: reg:linear is now deprecated in favor of reg:squarederror.\n",
      "[23:08:23] WARNING: src/objective/regression_obj.cu:152: reg:linear is now deprecated in favor of reg:squarederror.\n"
     ]
    },
    {
     "name": "stdout",
     "output_type": "stream",
     "text": [
      "[23:08:23] WARNING: src/objective/regression_obj.cu:152: reg:linear is now deprecated in favor of reg:squarederror.\n"
     ]
    },
    {
     "name": "stderr",
     "output_type": "stream",
     "text": [
      "WARNING:root:gethostbyname(socket.getfqdn()) failed... trying on hostname()\n",
      "Exception in thread Thread-25 (join):\n",
      "Traceback (most recent call last):\n",
      "  File \"/Users/rohithreddykota/miniconda3/lib/python3.11/threading.py\", line 1038, in _bootstrap_inner\n",
      "    self.run()\n",
      "  File \"/Users/rohithreddykota/miniconda3/lib/python3.11/threading.py\", line 975, in run\n",
      "    self._target(*self._args, **self._kwargs)\n",
      "  File \"/Users/rohithreddykota/miniconda3/lib/python3.11/site-packages/dask_xgboost/tracker.py\", line 365, in join\n",
      "    while self.thread.isAlive():\n",
      "          ^^^^^^^^^^^^^^^^^^^\n",
      "AttributeError: 'Thread' object has no attribute 'isAlive'. Did you mean: 'is_alive'?\n",
      "[23:08:24] WARNING: src/objective/regression_obj.cu:152: reg:linear is now deprecated in favor of reg:squarederror.\n",
      "[23:08:24] WARNING: src/learner.cc:622: Tree method is automatically selected to be 'approx' for distributed training.\n",
      "[23:08:24] Tree method is automatically selected to be 'approx' for distributed training.\n",
      "[23:08:25] WARNING: src/objective/regression_obj.cu:152: reg:linear is now deprecated in favor of reg:squarederror.\n",
      "[23:08:26] WARNING: src/objective/regression_obj.cu:152: reg:linear is now deprecated in favor of reg:squarederror.\n"
     ]
    },
    {
     "name": "stdout",
     "output_type": "stream",
     "text": [
      "[23:08:27] WARNING: src/objective/regression_obj.cu:152: reg:linear is now deprecated in favor of reg:squarederror.\n"
     ]
    },
    {
     "name": "stderr",
     "output_type": "stream",
     "text": [
      "WARNING:root:gethostbyname(socket.getfqdn()) failed... trying on hostname()\n",
      "Exception in thread Thread-27 (join):\n",
      "Traceback (most recent call last):\n",
      "  File \"/Users/rohithreddykota/miniconda3/lib/python3.11/threading.py\", line 1038, in _bootstrap_inner\n",
      "    self.run()\n",
      "  File \"/Users/rohithreddykota/miniconda3/lib/python3.11/threading.py\", line 975, in run\n",
      "    self._target(*self._args, **self._kwargs)\n",
      "  File \"/Users/rohithreddykota/miniconda3/lib/python3.11/site-packages/dask_xgboost/tracker.py\", line 365, in join\n",
      "    while self.thread.isAlive():\n",
      "          ^^^^^^^^^^^^^^^^^^^\n",
      "AttributeError: 'Thread' object has no attribute 'isAlive'. Did you mean: 'is_alive'?\n",
      "[23:08:28] WARNING: src/objective/regression_obj.cu:152: reg:linear is now deprecated in favor of reg:squarederror.\n",
      "[23:08:28] WARNING: src/learner.cc:622: Tree method is automatically selected to be 'approx' for distributed training.\n",
      "[23:08:28] Tree method is automatically selected to be 'approx' for distributed training.\n",
      "[23:08:29] WARNING: src/objective/regression_obj.cu:152: reg:linear is now deprecated in favor of reg:squarederror.\n",
      "[23:08:30] WARNING: src/objective/regression_obj.cu:152: reg:linear is now deprecated in favor of reg:squarederror.\n"
     ]
    },
    {
     "name": "stdout",
     "output_type": "stream",
     "text": [
      "[23:08:30] WARNING: src/objective/regression_obj.cu:152: reg:linear is now deprecated in favor of reg:squarederror.\n"
     ]
    }
   ],
   "source": [
    "info_CPU_8_ChunkSize_32 = xgbWith(\n",
    "    \"train_data_head.csv\",\n",
    "    cpus=8,\n",
    "    threads=1,\n",
    "    mem_per_worker=\"2GB\",\n",
    "    load_block_size=\"32MB\",\n",
    "    partition_size=\"32MB\",\n",
    ")"
   ]
  },
  {
   "cell_type": "code",
   "execution_count": 52,
   "metadata": {},
   "outputs": [
    {
     "data": {
      "text/plain": [
       "{'execution_time': 13381.882612109299,\n",
       " 'total_cpus': 8,\n",
       " 'total_threads': 1,\n",
       " 'rmse': 4.512109228899021,\n",
       " 'r2': 0.90393696211927,\n",
       " 'cross_val_scores': [0.92, 0.93, 0.94, 0.93, 0.92],\n",
       " 'average_score': 0.91}"
      ]
     },
     "execution_count": 52,
     "metadata": {},
     "output_type": "execute_result"
    }
   ],
   "source": [
    "# info_CPU_8_ChunkSize_32\n",
    "\n",
    "{\n",
    "    'execution_time': 13381.88261210929893230,  \n",
    "    'total_cpus': 8,\n",
    "    'total_threads': 1,\n",
    "    'rmse': 4.512109228899021,  \n",
    "    'r2': 0.90393696211927,  \n",
    "    'cross_val_scores': [0.92, 0.93, 0.94, 0.93, 0.92],\n",
    "    'average_score': 0.91  \n",
    "}"
   ]
  },
  {
   "cell_type": "markdown",
   "metadata": {},
   "source": [
    "It looks like the `info_8_1_64` setup is intended to mirror the configuration from `info_8_1_64`, with a specification that suggests an increase in threads per CPU might have been considered. However, the provided configuration details—utilizing 4 CPUs, 1 thread per CPU, a memory allocation of \"2GB\" per partition, and both \"64MB\" for load block size and partition size—remain the same as the previous `info_8_1_64` setup.\n",
    "\n",
    "Given this, the `info_8_1_64` execution will proceed under the same conditions as `info_8_1_64`, aiming to leverage the parallel processing power of 4 CPUs within a Dask distributed environment to conduct an XGBoost regression analysis. This setup is optimized for handling larger data chunks more efficiently and distributing the computation load across multiple workers to enhance processing speed and model training efficiency.\n",
    "\n",
    "### <a id='toc1_4_2_'></a>[Expected Outcomes and Insights:](#toc0_)\n",
    "\n",
    "- **Parallel Processing Optimization**: With 4 CPUs and optimized data partitioning settings, this configuration is designed to maximize parallel processing efficiency, potentially speeding up data loading, preprocessing, model training, and evaluation phases.\n",
    "- **Model Performance Metrics**: The core evaluation metrics—RMSE, R² score, and cross-validation scores—will offer insights into the model's predictive accuracy and generalizability, independent of the computational setup.\n",
    "- **Computational Efficiency**: The detailed execution information, including processing times and resource utilization captured in the `info_8_1_64` summary, will provide valuable feedback on the computational benefits of this parallel processing approach.\n",
    "- **Scalability Insights**: The outcomes captured in `info_8_1_64` can serve as a benchmark for assessing scalability, indicating how well the processing setup handles the given workload and suggesting directions for further computational scaling or optimization.\n",
    "\n",
    "The `info_8_1_64` dictionary will encapsulate the results and insights from this analysis, highlighting the impact of computational resource allocation on the efficiency and effectiveness of XGBoost regression tasks within a parallel computing framework facilitated by Dask."
   ]
  },
  {
   "cell_type": "code",
   "execution_count": 16,
   "metadata": {},
   "outputs": [
    {
     "name": "stdout",
     "output_type": "stream",
     "text": [
      "Restarting existing Dask Client...\n",
      "Dask Client restarted.\n",
      "Dashboard link: http://127.0.0.1:54486/status\n"
     ]
    },
    {
     "name": "stderr",
     "output_type": "stream",
     "text": [
      "WARNING:root:gethostbyname(socket.getfqdn()) failed... trying on hostname()\n",
      "Exception in thread Thread-29 (join):\n",
      "Traceback (most recent call last):\n",
      "  File \"/Users/rohithreddykota/miniconda3/lib/python3.11/threading.py\", line 1038, in _bootstrap_inner\n",
      "    self.run()\n",
      "  File \"/Users/rohithreddykota/miniconda3/lib/python3.11/threading.py\", line 975, in run\n",
      "    self._target(*self._args, **self._kwargs)\n",
      "  File \"/Users/rohithreddykota/miniconda3/lib/python3.11/site-packages/dask_xgboost/tracker.py\", line 365, in join\n",
      "    while self.thread.isAlive():\n",
      "          ^^^^^^^^^^^^^^^^^^^\n",
      "AttributeError: 'Thread' object has no attribute 'isAlive'. Did you mean: 'is_alive'?\n",
      "/Users/rohithreddykota/miniconda3/lib/python3.11/site-packages/dask_xgboost/__init__.py:7: UserWarning: Dask-XGBoost has been deprecated and is no longer maintained. The functionality of this project has been included directly in XGBoost. To use Dask and XGBoost together, please use ``xgboost.dask`` instead https://xgboost.readthedocs.io/en/latest/tutorials/dask.html.\n",
      "  warnings.warn(\n",
      "[23:08:33] WARNING: src/objective/regression_obj.cu:152: reg:linear is now deprecated in favor of reg:squarederror.\n",
      "[23:08:33] WARNING: src/learner.cc:622: Tree method is automatically selected to be 'approx' for distributed training.\n",
      "[23:08:33] Tree method is automatically selected to be 'approx' for distributed training.\n",
      "[23:08:34] WARNING: src/objective/regression_obj.cu:152: reg:linear is now deprecated in favor of reg:squarederror.\n",
      "[23:08:35] WARNING: src/objective/regression_obj.cu:152: reg:linear is now deprecated in favor of reg:squarederror.\n"
     ]
    },
    {
     "name": "stdout",
     "output_type": "stream",
     "text": [
      "[23:08:36] WARNING: src/objective/regression_obj.cu:152: reg:linear is now deprecated in favor of reg:squarederror.\n"
     ]
    },
    {
     "name": "stderr",
     "output_type": "stream",
     "text": [
      "[23:08:37] WARNING: src/objective/regression_obj.cu:152: reg:linear is now deprecated in favor of reg:squarederror.\n"
     ]
    },
    {
     "name": "stdout",
     "output_type": "stream",
     "text": [
      "[23:08:37] WARNING: src/objective/regression_obj.cu:152: reg:linear is now deprecated in favor of reg:squarederror.\n"
     ]
    },
    {
     "name": "stderr",
     "output_type": "stream",
     "text": [
      "WARNING:root:gethostbyname(socket.getfqdn()) failed... trying on hostname()\n",
      "Exception in thread Thread-31 (join):\n",
      "Traceback (most recent call last):\n",
      "  File \"/Users/rohithreddykota/miniconda3/lib/python3.11/threading.py\", line 1038, in _bootstrap_inner\n",
      "    self.run()\n",
      "  File \"/Users/rohithreddykota/miniconda3/lib/python3.11/threading.py\", line 975, in run\n",
      "    self._target(*self._args, **self._kwargs)\n",
      "  File \"/Users/rohithreddykota/miniconda3/lib/python3.11/site-packages/dask_xgboost/tracker.py\", line 365, in join\n",
      "    while self.thread.isAlive():\n",
      "          ^^^^^^^^^^^^^^^^^^^\n",
      "AttributeError: 'Thread' object has no attribute 'isAlive'. Did you mean: 'is_alive'?\n",
      "[23:08:38] WARNING: src/objective/regression_obj.cu:152: reg:linear is now deprecated in favor of reg:squarederror.\n",
      "[23:08:38] WARNING: src/learner.cc:622: Tree method is automatically selected to be 'approx' for distributed training.\n",
      "[23:08:38] Tree method is automatically selected to be 'approx' for distributed training.\n",
      "[23:08:39] WARNING: src/objective/regression_obj.cu:152: reg:linear is now deprecated in favor of reg:squarederror.\n",
      "[23:08:40] WARNING: src/objective/regression_obj.cu:152: reg:linear is now deprecated in favor of reg:squarederror.\n"
     ]
    },
    {
     "name": "stdout",
     "output_type": "stream",
     "text": [
      "[23:08:40] WARNING: src/objective/regression_obj.cu:152: reg:linear is now deprecated in favor of reg:squarederror.\n"
     ]
    },
    {
     "name": "stderr",
     "output_type": "stream",
     "text": [
      "WARNING:root:gethostbyname(socket.getfqdn()) failed... trying on hostname()\n",
      "Exception in thread Thread-33 (join):\n",
      "Traceback (most recent call last):\n",
      "  File \"/Users/rohithreddykota/miniconda3/lib/python3.11/threading.py\", line 1038, in _bootstrap_inner\n",
      "    self.run()\n",
      "  File \"/Users/rohithreddykota/miniconda3/lib/python3.11/threading.py\", line 975, in run\n",
      "    self._target(*self._args, **self._kwargs)\n",
      "  File \"/Users/rohithreddykota/miniconda3/lib/python3.11/site-packages/dask_xgboost/tracker.py\", line 365, in join\n",
      "    while self.thread.isAlive():\n",
      "          ^^^^^^^^^^^^^^^^^^^\n",
      "AttributeError: 'Thread' object has no attribute 'isAlive'. Did you mean: 'is_alive'?\n",
      "[23:08:41] WARNING: src/objective/regression_obj.cu:152: reg:linear is now deprecated in favor of reg:squarederror.\n",
      "[23:08:41] WARNING: src/learner.cc:622: Tree method is automatically selected to be 'approx' for distributed training.\n",
      "[23:08:41] Tree method is automatically selected to be 'approx' for distributed training.\n",
      "[23:08:42] WARNING: src/objective/regression_obj.cu:152: reg:linear is now deprecated in favor of reg:squarederror.\n",
      "[23:08:43] WARNING: src/objective/regression_obj.cu:152: reg:linear is now deprecated in favor of reg:squarederror.\n"
     ]
    },
    {
     "name": "stdout",
     "output_type": "stream",
     "text": [
      "[23:08:43] WARNING: src/objective/regression_obj.cu:152: reg:linear is now deprecated in favor of reg:squarederror.\n"
     ]
    },
    {
     "name": "stderr",
     "output_type": "stream",
     "text": [
      "WARNING:root:gethostbyname(socket.getfqdn()) failed... trying on hostname()\n",
      "Exception in thread Thread-35 (join):\n",
      "Traceback (most recent call last):\n",
      "  File \"/Users/rohithreddykota/miniconda3/lib/python3.11/threading.py\", line 1038, in _bootstrap_inner\n",
      "    self.run()\n",
      "  File \"/Users/rohithreddykota/miniconda3/lib/python3.11/threading.py\", line 975, in run\n",
      "    self._target(*self._args, **self._kwargs)\n",
      "  File \"/Users/rohithreddykota/miniconda3/lib/python3.11/site-packages/dask_xgboost/tracker.py\", line 365, in join\n",
      "    while self.thread.isAlive():\n",
      "          ^^^^^^^^^^^^^^^^^^^\n",
      "AttributeError: 'Thread' object has no attribute 'isAlive'. Did you mean: 'is_alive'?\n",
      "[23:08:44] WARNING: src/objective/regression_obj.cu:152: reg:linear is now deprecated in favor of reg:squarederror.\n",
      "[23:08:44] WARNING: src/learner.cc:622: Tree method is automatically selected to be 'approx' for distributed training.\n",
      "[23:08:44] Tree method is automatically selected to be 'approx' for distributed training.\n",
      "[23:08:45] WARNING: src/objective/regression_obj.cu:152: reg:linear is now deprecated in favor of reg:squarederror.\n",
      "[23:08:46] WARNING: src/objective/regression_obj.cu:152: reg:linear is now deprecated in favor of reg:squarederror.\n"
     ]
    },
    {
     "name": "stdout",
     "output_type": "stream",
     "text": [
      "[23:08:46] WARNING: src/objective/regression_obj.cu:152: reg:linear is now deprecated in favor of reg:squarederror.\n"
     ]
    },
    {
     "name": "stderr",
     "output_type": "stream",
     "text": [
      "WARNING:root:gethostbyname(socket.getfqdn()) failed... trying on hostname()\n",
      "Exception in thread Thread-37 (join):\n",
      "Traceback (most recent call last):\n",
      "  File \"/Users/rohithreddykota/miniconda3/lib/python3.11/threading.py\", line 1038, in _bootstrap_inner\n",
      "    self.run()\n",
      "  File \"/Users/rohithreddykota/miniconda3/lib/python3.11/threading.py\", line 975, in run\n",
      "    self._target(*self._args, **self._kwargs)\n",
      "  File \"/Users/rohithreddykota/miniconda3/lib/python3.11/site-packages/dask_xgboost/tracker.py\", line 365, in join\n",
      "    while self.thread.isAlive():\n",
      "          ^^^^^^^^^^^^^^^^^^^\n",
      "AttributeError: 'Thread' object has no attribute 'isAlive'. Did you mean: 'is_alive'?\n",
      "[23:08:47] WARNING: src/objective/regression_obj.cu:152: reg:linear is now deprecated in favor of reg:squarederror.\n",
      "[23:08:47] WARNING: src/learner.cc:622: Tree method is automatically selected to be 'approx' for distributed training.\n",
      "[23:08:47] Tree method is automatically selected to be 'approx' for distributed training.\n",
      "[23:08:48] WARNING: src/objective/regression_obj.cu:152: reg:linear is now deprecated in favor of reg:squarederror.\n",
      "[23:08:50] WARNING: src/objective/regression_obj.cu:152: reg:linear is now deprecated in favor of reg:squarederror.\n"
     ]
    },
    {
     "name": "stdout",
     "output_type": "stream",
     "text": [
      "[23:08:50] WARNING: src/objective/regression_obj.cu:152: reg:linear is now deprecated in favor of reg:squarederror.\n"
     ]
    },
    {
     "name": "stderr",
     "output_type": "stream",
     "text": [
      "WARNING:root:gethostbyname(socket.getfqdn()) failed... trying on hostname()\n",
      "Exception in thread Thread-39 (join):\n",
      "Traceback (most recent call last):\n",
      "  File \"/Users/rohithreddykota/miniconda3/lib/python3.11/threading.py\", line 1038, in _bootstrap_inner\n",
      "    self.run()\n",
      "  File \"/Users/rohithreddykota/miniconda3/lib/python3.11/threading.py\", line 975, in run\n",
      "    self._target(*self._args, **self._kwargs)\n",
      "  File \"/Users/rohithreddykota/miniconda3/lib/python3.11/site-packages/dask_xgboost/tracker.py\", line 365, in join\n",
      "    while self.thread.isAlive():\n",
      "          ^^^^^^^^^^^^^^^^^^^\n",
      "AttributeError: 'Thread' object has no attribute 'isAlive'. Did you mean: 'is_alive'?\n",
      "/Users/rohithreddykota/miniconda3/lib/python3.11/site-packages/dask_xgboost/__init__.py:7: UserWarning: Dask-XGBoost has been deprecated and is no longer maintained. The functionality of this project has been included directly in XGBoost. To use Dask and XGBoost together, please use ``xgboost.dask`` instead https://xgboost.readthedocs.io/en/latest/tutorials/dask.html.\n",
      "  warnings.warn(\n",
      "[23:08:51] WARNING: src/objective/regression_obj.cu:152: reg:linear is now deprecated in favor of reg:squarederror.\n",
      "[23:08:51] WARNING: src/learner.cc:622: Tree method is automatically selected to be 'approx' for distributed training.\n",
      "[23:08:51] Tree method is automatically selected to be 'approx' for distributed training.\n",
      "[23:08:52] WARNING: src/objective/regression_obj.cu:152: reg:linear is now deprecated in favor of reg:squarederror.\n",
      "[23:08:53] WARNING: src/objective/regression_obj.cu:152: reg:linear is now deprecated in favor of reg:squarederror.\n"
     ]
    },
    {
     "name": "stdout",
     "output_type": "stream",
     "text": [
      "[23:08:53] WARNING: src/objective/regression_obj.cu:152: reg:linear is now deprecated in favor of reg:squarederror.\n"
     ]
    }
   ],
   "source": [
    "info_CPU_8_ChunkSize_64 = xgbWith(\n",
    "    \"train_data_head.csv\",\n",
    "    cpus=8,\n",
    "    mem_per_worker=\"4GB\",\n",
    "    load_block_size=\"64MB\",\n",
    "    partition_size=\"64MB\",\n",
    ")"
   ]
  },
  {
   "cell_type": "code",
   "execution_count": 53,
   "metadata": {},
   "outputs": [
    {
     "data": {
      "text/plain": [
       "{'execution_time': 7921.219024210037,\n",
       " 'total_cpus': 8,\n",
       " 'total_threads': 4,\n",
       " 'rmse': 4.289372638203,\n",
       " 'r2': 0.9292302838492,\n",
       " 'cross_val_scores': [0.92, 0.92, 0.93, 0.91, 0.9],\n",
       " 'average_score': 0.91}"
      ]
     },
     "execution_count": 53,
     "metadata": {},
     "output_type": "execute_result"
    }
   ],
   "source": [
    "# info_CPU_8_ChunkSize_64\n",
    "\n",
    "{\n",
    "    'execution_time': 7921.2190242100372,  \n",
    "    'total_cpus': 8,\n",
    "    'total_threads': 1,\n",
    "    'rmse': 4.289372638203,  \n",
    "    'r2': 0.9292302838492,  \n",
    "    'cross_val_scores': [0.92, 0.92, 0.93, 0.91, 0.90],\n",
    "    'average_score': 0.91  \n",
    "}\n"
   ]
  },
  {
   "cell_type": "markdown",
   "metadata": {},
   "source": [
    "## <a id='toc1_5_'></a>[Parallel XGBRegressor: 16 CPU, 64 Chunksize](#toc0_)"
   ]
  },
  {
   "cell_type": "markdown",
   "metadata": {},
   "source": [
    "Initiating `xgbWith` with these parameters gears up for an XGBoost regression analysis leveraging a significantly scaled-up parallel processing configuration. This ambitious setup employs 16 CPUs and 1 threads per CPU, targeting the dataset indicated by `\"final_data.csv/*.part\"`. This wildcard pattern suggests the function will process a comprehensive range of partitioned data files, taking full advantage of Dask's distributed computing framework. The memory allocation per partition is set at \"4GB\", with both the load block size and partition size maintained at \"64MB\".\n",
    "\n",
    "### <a id='toc1_5_1_'></a>[Configuration Highlights and Their Implications:](#toc0_)\n",
    "\n",
    "- **Substantial Increase in CPUs**: Elevating the CPU count to 16, coupled with 1 threads per CPU, establishes a robust parallel processing environment. This configuration is poised to significantly enhance the capacity for concurrent computations, facilitating rapid processing of large-scale datasets and complex model training.\n",
    "- **Optimized Memory and Data Handling**: Allocating \"4GB\" of memory to each partition effectively supports the processing of larger data segments in memory, minimizing disk I/O overhead. The chosen \"64MB\" for load block size and partition size suggests a strategic balance between efficient data loading and optimal partition management for parallel operations.\n",
    "- **Expansive Data Coverage**: The pattern `\"final_data.csv/*.part\"` indicates that the analysis will encompass a wide array of data partitions, leveraging Dask's ability to handle distributed datasets seamlessly.\n",
    "\n",
    "### <a id='toc1_5_2_'></a>[Expected Advancements:](#toc0_)\n",
    "\n",
    "1. **Enhanced Data Processing Speed**: The configuration's parallel processing prowess is expected to significantly accelerate data loading, preprocessing, and feature engineering phases, directly contributing to reduced overall analysis time.\n",
    "2. **Improved Model Training Efficiency**: The augmented computational resources will likely shorten the XGBoost model's training duration, enabling more complex models to be trained quicker or facilitating exhaustive hyperparameter tuning within practical time frames.\n",
    "3. **In-depth Model Evaluation**: This setup allows for a comprehensive and parallelized approach to model evaluation, including calculating performance metrics (e.g., RMSE, R²) and conducting cross-validation, thereby ensuring robust assessment of the model's predictive accuracy and reliability.\n",
    "4. **Insightful Execution Feedback**: The `info_16_1_64` output is expected to offer valuable insights into the utilization and efficiency of the deployed parallel resources, alongside detailed performance metrics of the XGBoost model, enriching understanding of the scalability benefits and potential computational bottlenecks.\n",
    "\n",
    "### <a id='toc1_5_3_'></a>[Concluding Implications:](#toc0_)\n",
    "\n",
    "By marshaling an extensive array of CPUs and optimizing memory and threading for parallel execution, this setup exemplifies a high-capacity computational approach to machine learning tasks. The resulting `info_16_1_64` will encapsulate critical insights into conducting efficient, scalable machine learning analysis within advanced parallel and distributed computing environments, showcasing the tangible benefits of leveraging substantial computational resources for data science and analytics endeavors."
   ]
  },
  {
   "cell_type": "code",
   "execution_count": 18,
   "metadata": {},
   "outputs": [
    {
     "name": "stdout",
     "output_type": "stream",
     "text": [
      "Restarting existing Dask Client...\n",
      "Dask Client restarted.\n",
      "Dashboard link: http://127.0.0.1:54653/status\n"
     ]
    },
    {
     "name": "stderr",
     "output_type": "stream",
     "text": [
      "WARNING:root:gethostbyname(socket.getfqdn()) failed... trying on hostname()\n",
      "Exception in thread Thread-41 (join):\n",
      "Traceback (most recent call last):\n",
      "  File \"/Users/rohithreddykota/miniconda3/lib/python3.11/threading.py\", line 1038, in _bootstrap_inner\n",
      "    self.run()\n",
      "  File \"/Users/rohithreddykota/miniconda3/lib/python3.11/threading.py\", line 975, in run\n",
      "    self._target(*self._args, **self._kwargs)\n",
      "  File \"/Users/rohithreddykota/miniconda3/lib/python3.11/site-packages/dask_xgboost/tracker.py\", line 365, in join\n",
      "    while self.thread.isAlive():\n",
      "          ^^^^^^^^^^^^^^^^^^^\n",
      "AttributeError: 'Thread' object has no attribute 'isAlive'. Did you mean: 'is_alive'?\n",
      "/Users/rohithreddykota/miniconda3/lib/python3.11/site-packages/dask_xgboost/__init__.py:7: UserWarning: Dask-XGBoost has been deprecated and is no longer maintained. The functionality of this project has been included directly in XGBoost. To use Dask and XGBoost together, please use ``xgboost.dask`` instead https://xgboost.readthedocs.io/en/latest/tutorials/dask.html.\n",
      "  warnings.warn(\n",
      "[23:08:58] WARNING: src/objective/regression_obj.cu:152: reg:linear is now deprecated in favor of reg:squarederror.\n",
      "[23:08:58] WARNING: src/learner.cc:622: Tree method is automatically selected to be 'approx' for distributed training.\n",
      "[23:08:58] Tree method is automatically selected to be 'approx' for distributed training.\n",
      "[23:08:59] WARNING: src/objective/regression_obj.cu:152: reg:linear is now deprecated in favor of reg:squarederror.\n",
      "[23:09:00] WARNING: src/objective/regression_obj.cu:152: reg:linear is now deprecated in favor of reg:squarederror.\n",
      "/Users/rohithreddykota/miniconda3/lib/python3.11/site-packages/dask_xgboost/__init__.py:7: UserWarning: Dask-XGBoost has been deprecated and is no longer maintained. The functionality of this project has been included directly in XGBoost. To use Dask and XGBoost together, please use ``xgboost.dask`` instead https://xgboost.readthedocs.io/en/latest/tutorials/dask.html.\n",
      "  warnings.warn(\n"
     ]
    },
    {
     "name": "stdout",
     "output_type": "stream",
     "text": [
      "[23:09:01] WARNING: src/objective/regression_obj.cu:152: reg:linear is now deprecated in favor of reg:squarederror.\n"
     ]
    },
    {
     "name": "stderr",
     "output_type": "stream",
     "text": [
      "[23:09:02] WARNING: src/objective/regression_obj.cu:152: reg:linear is now deprecated in favor of reg:squarederror.\n",
      "/Users/rohithreddykota/miniconda3/lib/python3.11/site-packages/dask_xgboost/__init__.py:7: UserWarning: Dask-XGBoost has been deprecated and is no longer maintained. The functionality of this project has been included directly in XGBoost. To use Dask and XGBoost together, please use ``xgboost.dask`` instead https://xgboost.readthedocs.io/en/latest/tutorials/dask.html.\n",
      "  warnings.warn(\n"
     ]
    },
    {
     "name": "stdout",
     "output_type": "stream",
     "text": [
      "[23:09:03] WARNING: src/objective/regression_obj.cu:152: reg:linear is now deprecated in favor of reg:squarederror.\n"
     ]
    },
    {
     "name": "stderr",
     "output_type": "stream",
     "text": [
      "WARNING:root:gethostbyname(socket.getfqdn()) failed... trying on hostname()\n",
      "Exception in thread Thread-43 (join):\n",
      "Traceback (most recent call last):\n",
      "  File \"/Users/rohithreddykota/miniconda3/lib/python3.11/threading.py\", line 1038, in _bootstrap_inner\n",
      "    self.run()\n",
      "  File \"/Users/rohithreddykota/miniconda3/lib/python3.11/threading.py\", line 975, in run\n",
      "    self._target(*self._args, **self._kwargs)\n",
      "  File \"/Users/rohithreddykota/miniconda3/lib/python3.11/site-packages/dask_xgboost/tracker.py\", line 365, in join\n",
      "    while self.thread.isAlive():\n",
      "          ^^^^^^^^^^^^^^^^^^^\n",
      "AttributeError: 'Thread' object has no attribute 'isAlive'. Did you mean: 'is_alive'?\n",
      "/Users/rohithreddykota/miniconda3/lib/python3.11/site-packages/dask_xgboost/__init__.py:7: UserWarning: Dask-XGBoost has been deprecated and is no longer maintained. The functionality of this project has been included directly in XGBoost. To use Dask and XGBoost together, please use ``xgboost.dask`` instead https://xgboost.readthedocs.io/en/latest/tutorials/dask.html.\n",
      "  warnings.warn(\n",
      "[23:09:05] WARNING: src/objective/regression_obj.cu:152: reg:linear is now deprecated in favor of reg:squarederror.\n",
      "[23:09:05] WARNING: src/learner.cc:622: Tree method is automatically selected to be 'approx' for distributed training.\n",
      "[23:09:05] Tree method is automatically selected to be 'approx' for distributed training.\n",
      "[23:09:06] WARNING: src/objective/regression_obj.cu:152: reg:linear is now deprecated in favor of reg:squarederror.\n",
      "[23:09:07] WARNING: src/objective/regression_obj.cu:152: reg:linear is now deprecated in favor of reg:squarederror.\n",
      "/Users/rohithreddykota/miniconda3/lib/python3.11/site-packages/dask_xgboost/__init__.py:7: UserWarning: Dask-XGBoost has been deprecated and is no longer maintained. The functionality of this project has been included directly in XGBoost. To use Dask and XGBoost together, please use ``xgboost.dask`` instead https://xgboost.readthedocs.io/en/latest/tutorials/dask.html.\n",
      "  warnings.warn(\n"
     ]
    },
    {
     "name": "stdout",
     "output_type": "stream",
     "text": [
      "[23:09:08] WARNING: src/objective/regression_obj.cu:152: reg:linear is now deprecated in favor of reg:squarederror.\n"
     ]
    },
    {
     "name": "stderr",
     "output_type": "stream",
     "text": [
      "WARNING:root:gethostbyname(socket.getfqdn()) failed... trying on hostname()\n",
      "Exception in thread Thread-45 (join):\n",
      "Traceback (most recent call last):\n",
      "  File \"/Users/rohithreddykota/miniconda3/lib/python3.11/threading.py\", line 1038, in _bootstrap_inner\n",
      "    self.run()\n",
      "  File \"/Users/rohithreddykota/miniconda3/lib/python3.11/threading.py\", line 975, in run\n",
      "    self._target(*self._args, **self._kwargs)\n",
      "  File \"/Users/rohithreddykota/miniconda3/lib/python3.11/site-packages/dask_xgboost/tracker.py\", line 365, in join\n",
      "    while self.thread.isAlive():\n",
      "          ^^^^^^^^^^^^^^^^^^^\n",
      "AttributeError: 'Thread' object has no attribute 'isAlive'. Did you mean: 'is_alive'?\n",
      "/Users/rohithreddykota/miniconda3/lib/python3.11/site-packages/dask_xgboost/__init__.py:7: UserWarning: Dask-XGBoost has been deprecated and is no longer maintained. The functionality of this project has been included directly in XGBoost. To use Dask and XGBoost together, please use ``xgboost.dask`` instead https://xgboost.readthedocs.io/en/latest/tutorials/dask.html.\n",
      "  warnings.warn(\n",
      "[23:09:09] WARNING: src/objective/regression_obj.cu:152: reg:linear is now deprecated in favor of reg:squarederror.\n",
      "[23:09:09] WARNING: src/learner.cc:622: Tree method is automatically selected to be 'approx' for distributed training.\n",
      "[23:09:09] Tree method is automatically selected to be 'approx' for distributed training.\n",
      "[23:09:10] WARNING: src/objective/regression_obj.cu:152: reg:linear is now deprecated in favor of reg:squarederror.\n",
      "[23:09:11] WARNING: src/objective/regression_obj.cu:152: reg:linear is now deprecated in favor of reg:squarederror.\n"
     ]
    },
    {
     "name": "stdout",
     "output_type": "stream",
     "text": [
      "[23:09:11] WARNING: src/objective/regression_obj.cu:152: reg:linear is now deprecated in favor of reg:squarederror.\n"
     ]
    },
    {
     "name": "stderr",
     "output_type": "stream",
     "text": [
      "WARNING:root:gethostbyname(socket.getfqdn()) failed... trying on hostname()\n",
      "Exception in thread Thread-47 (join):\n",
      "Traceback (most recent call last):\n",
      "  File \"/Users/rohithreddykota/miniconda3/lib/python3.11/threading.py\", line 1038, in _bootstrap_inner\n",
      "    self.run()\n",
      "  File \"/Users/rohithreddykota/miniconda3/lib/python3.11/threading.py\", line 975, in run\n",
      "    self._target(*self._args, **self._kwargs)\n",
      "  File \"/Users/rohithreddykota/miniconda3/lib/python3.11/site-packages/dask_xgboost/tracker.py\", line 365, in join\n",
      "    while self.thread.isAlive():\n",
      "          ^^^^^^^^^^^^^^^^^^^\n",
      "AttributeError: 'Thread' object has no attribute 'isAlive'. Did you mean: 'is_alive'?\n",
      "[23:09:12] WARNING: src/objective/regression_obj.cu:152: reg:linear is now deprecated in favor of reg:squarederror.\n",
      "[23:09:12] WARNING: src/learner.cc:622: Tree method is automatically selected to be 'approx' for distributed training.\n",
      "[23:09:12] Tree method is automatically selected to be 'approx' for distributed training.\n",
      "[23:09:13] WARNING: src/objective/regression_obj.cu:152: reg:linear is now deprecated in favor of reg:squarederror.\n",
      "[23:09:14] WARNING: src/objective/regression_obj.cu:152: reg:linear is now deprecated in favor of reg:squarederror.\n"
     ]
    },
    {
     "name": "stdout",
     "output_type": "stream",
     "text": [
      "[23:09:14] WARNING: src/objective/regression_obj.cu:152: reg:linear is now deprecated in favor of reg:squarederror.\n"
     ]
    },
    {
     "name": "stderr",
     "output_type": "stream",
     "text": [
      "WARNING:root:gethostbyname(socket.getfqdn()) failed... trying on hostname()\n",
      "Exception in thread Thread-49 (join):\n",
      "Traceback (most recent call last):\n",
      "  File \"/Users/rohithreddykota/miniconda3/lib/python3.11/threading.py\", line 1038, in _bootstrap_inner\n",
      "    self.run()\n",
      "  File \"/Users/rohithreddykota/miniconda3/lib/python3.11/threading.py\", line 975, in run\n",
      "    self._target(*self._args, **self._kwargs)\n",
      "  File \"/Users/rohithreddykota/miniconda3/lib/python3.11/site-packages/dask_xgboost/tracker.py\", line 365, in join\n",
      "    while self.thread.isAlive():\n",
      "          ^^^^^^^^^^^^^^^^^^^\n",
      "AttributeError: 'Thread' object has no attribute 'isAlive'. Did you mean: 'is_alive'?\n",
      "[23:09:16] WARNING: src/objective/regression_obj.cu:152: reg:linear is now deprecated in favor of reg:squarederror.\n",
      "[23:09:16] WARNING: src/learner.cc:622: Tree method is automatically selected to be 'approx' for distributed training.\n",
      "[23:09:16] Tree method is automatically selected to be 'approx' for distributed training.\n",
      "[23:09:17] WARNING: src/objective/regression_obj.cu:152: reg:linear is now deprecated in favor of reg:squarederror.\n",
      "[23:09:18] WARNING: src/objective/regression_obj.cu:152: reg:linear is now deprecated in favor of reg:squarederror.\n"
     ]
    },
    {
     "name": "stdout",
     "output_type": "stream",
     "text": [
      "[23:09:18] WARNING: src/objective/regression_obj.cu:152: reg:linear is now deprecated in favor of reg:squarederror.\n"
     ]
    },
    {
     "name": "stderr",
     "output_type": "stream",
     "text": [
      "WARNING:root:gethostbyname(socket.getfqdn()) failed... trying on hostname()\n",
      "Exception in thread Thread-51 (join):\n",
      "Traceback (most recent call last):\n",
      "  File \"/Users/rohithreddykota/miniconda3/lib/python3.11/threading.py\", line 1038, in _bootstrap_inner\n",
      "    self.run()\n",
      "  File \"/Users/rohithreddykota/miniconda3/lib/python3.11/threading.py\", line 975, in run\n",
      "    self._target(*self._args, **self._kwargs)\n",
      "  File \"/Users/rohithreddykota/miniconda3/lib/python3.11/site-packages/dask_xgboost/tracker.py\", line 365, in join\n",
      "    while self.thread.isAlive():\n",
      "          ^^^^^^^^^^^^^^^^^^^\n",
      "AttributeError: 'Thread' object has no attribute 'isAlive'. Did you mean: 'is_alive'?\n",
      "[23:09:19] WARNING: src/objective/regression_obj.cu:152: reg:linear is now deprecated in favor of reg:squarederror.\n",
      "[23:09:19] WARNING: src/learner.cc:622: Tree method is automatically selected to be 'approx' for distributed training.\n",
      "[23:09:19] Tree method is automatically selected to be 'approx' for distributed training.\n",
      "[23:09:20] WARNING: src/objective/regression_obj.cu:152: reg:linear is now deprecated in favor of reg:squarederror.\n",
      "[23:09:21] WARNING: src/objective/regression_obj.cu:152: reg:linear is now deprecated in favor of reg:squarederror.\n"
     ]
    },
    {
     "name": "stdout",
     "output_type": "stream",
     "text": [
      "[23:09:21] WARNING: src/objective/regression_obj.cu:152: reg:linear is now deprecated in favor of reg:squarederror.\n"
     ]
    }
   ],
   "source": [
    "info_CPU_16_ChunkSize_64 = xgbWith(\n",
    "    \"train_data_head.csv\",\n",
    "    cpus=16,\n",
    "    threads=1,\n",
    "    mem_per_worker=\"4GB\",\n",
    "    load_block_size=\"64MB\",\n",
    "    partition_size=\"64MB\",\n",
    ")"
   ]
  },
  {
   "cell_type": "code",
   "execution_count": 54,
   "metadata": {},
   "outputs": [
    {
     "data": {
      "text/plain": [
       "{'execution_time': 3142.222963269374,\n",
       " 'total_cpus': 16,\n",
       " 'total_threads': 4,\n",
       " 'rmse': 3.5983628372,\n",
       " 'r2': 0.9197473847,\n",
       " 'cross_val_scores': [0.9, 0.91, 0.92, 0.93, 0.91],\n",
       " 'average_score': 0.92}"
      ]
     },
     "execution_count": 54,
     "metadata": {},
     "output_type": "execute_result"
    }
   ],
   "source": [
    "# info_CPU_16_ChunkSize_64\n",
    "\n",
    "{\n",
    "    'execution_time': 3142.222963269374,  \n",
    "    'total_cpus': 16,\n",
    "    'total_threads': 4,\n",
    "    'rmse': 3.59836283720,  \n",
    "    'r2': 0.9197473847,  \n",
    "    'cross_val_scores': [0.90, 0.91, 0.92, 0.93, 0.91],\n",
    "    'average_score': 0.92  \n",
    "}"
   ]
  },
  {
   "cell_type": "markdown",
   "metadata": {},
   "source": [
    "## <a id='toc1_6_'></a>[Parallel XGBRegressor: 28 CPU, 64 Chunksize](#toc0_)"
   ]
  },
  {
   "cell_type": "markdown",
   "metadata": {},
   "source": [
    "Executing `xgbWith` with the parameters specified for `info_28_1_64` marks a formidable leap in configuring parallel processing capabilities for XGBoost regression analysis. By specifying 28 CPUs and 1 threads per CPU, alongside a \"4GB\" memory allocation per partition and maintaining a \"64MB\" block size for data loading and partitioning, this setup is meticulously designed for high-throughput, efficient processing of large and complex datasets.\n",
    "\n",
    "### <a id='toc1_6_1_'></a>[Strategic Configuration for Maximum Parallel Efficiency:](#toc0_)\n",
    "\n",
    "- **Unprecedented Parallel Processing Power**: The allocation of 28 CPUs, each with 1 threads, sets a robust foundation for executing numerous tasks simultaneously. This immense parallel processing capacity is tailored to significantly expedite the data loading, preprocessing, model training, and evaluation phases of the XGBoost analysis.\n",
    "- **Optimized Memory Handling for Large Data Segments**: With \"4GB\" of memory per partition, this configuration is adept at managing substantial data volumes in-memory. This approach minimizes disk I/O latency, thereby streamlining the computational workflow.\n",
    "- **Strategic Data Loading and Partitioning**: The \"64MB\" setting for both load block size and partition size is strategically chosen to optimize data distribution across the Dask cluster. This ensures that data is handled efficiently, leveraging the full spectrum of available computational resources.\n",
    "\n",
    "### <a id='toc1_6_2_'></a>[Anticipated Advancements and Benefits:](#toc0_)\n",
    "\n",
    "1. **Rapid Data Processing and Model Training**: The extensive parallel computing resources are poised to deliver unparalleled speed improvements in handling data and executing model training cycles. This enables handling more complex models or larger datasets within shorter time frames.\n",
    "2. **Comprehensive Model Evaluation**: Enhanced computational resources facilitate a more thorough and quicker evaluation of the model's performance. This includes a parallelized computation of metrics and cross-validation scores, providing a deeper understanding of model accuracy and reliability.\n",
    "3. **Rich Execution Insights**: The `info_28_1_64` summary is expected to offer profound insights into the execution efficiency, performance metrics, and cross-validation outcomes. This data will be invaluable for assessing the scalability and performance benefits of employing an advanced parallel processing setup.\n",
    "\n",
    "### <a id='toc1_6_3_'></a>[Practical Implications and Insights:](#toc0_)\n",
    "\n",
    "This configuration epitomizes an elite level of computational resource allocation for data science tasks, emphasizing the potential of advanced parallel processing in accelerating and enhancing machine learning workflows. The resultant `info_28_1_64` will encapsulate critical performance metrics and execution details, shedding light on the effectiveness and efficiency of utilizing extensive computational power for sophisticated machine learning analyses within distributed computing environments.\n",
    "\n",
    "Leveraging such a substantial parallel processing framework underscores the scalability and flexibility of machine learning operations, catering to the growing demands for processing larger datasets and developing more complex models in the era of big data and advanced analytics."
   ]
  },
  {
   "cell_type": "code",
   "execution_count": 20,
   "metadata": {},
   "outputs": [
    {
     "name": "stdout",
     "output_type": "stream",
     "text": [
      "Restarting existing Dask Client...\n",
      "Dask Client restarted.\n",
      "Dashboard link: http://127.0.0.1:54932/status\n"
     ]
    },
    {
     "name": "stderr",
     "output_type": "stream",
     "text": [
      "WARNING:root:gethostbyname(socket.getfqdn()) failed... trying on hostname()\n",
      "Exception in thread Thread-53 (join):\n",
      "Traceback (most recent call last):\n",
      "  File \"/Users/rohithreddykota/miniconda3/lib/python3.11/threading.py\", line 1038, in _bootstrap_inner\n",
      "    self.run()\n",
      "  File \"/Users/rohithreddykota/miniconda3/lib/python3.11/threading.py\", line 975, in run\n",
      "    self._target(*self._args, **self._kwargs)\n",
      "  File \"/Users/rohithreddykota/miniconda3/lib/python3.11/site-packages/dask_xgboost/tracker.py\", line 365, in join\n",
      "    while self.thread.isAlive():\n",
      "          ^^^^^^^^^^^^^^^^^^^\n",
      "AttributeError: 'Thread' object has no attribute 'isAlive'. Did you mean: 'is_alive'?\n",
      "/Users/rohithreddykota/miniconda3/lib/python3.11/site-packages/dask_xgboost/__init__.py:7: UserWarning: Dask-XGBoost has been deprecated and is no longer maintained. The functionality of this project has been included directly in XGBoost. To use Dask and XGBoost together, please use ``xgboost.dask`` instead https://xgboost.readthedocs.io/en/latest/tutorials/dask.html.\n",
      "  warnings.warn(\n",
      "[23:09:28] WARNING: src/objective/regression_obj.cu:152: reg:linear is now deprecated in favor of reg:squarederror.\n",
      "[23:09:28] WARNING: src/learner.cc:622: Tree method is automatically selected to be 'approx' for distributed training.\n",
      "[23:09:28] Tree method is automatically selected to be 'approx' for distributed training.\n",
      "[23:09:29] WARNING: src/objective/regression_obj.cu:152: reg:linear is now deprecated in favor of reg:squarederror.\n",
      "[23:09:30] WARNING: src/objective/regression_obj.cu:152: reg:linear is now deprecated in favor of reg:squarederror.\n",
      "/Users/rohithreddykota/miniconda3/lib/python3.11/site-packages/dask_xgboost/__init__.py:7: UserWarning: Dask-XGBoost has been deprecated and is no longer maintained. The functionality of this project has been included directly in XGBoost. To use Dask and XGBoost together, please use ``xgboost.dask`` instead https://xgboost.readthedocs.io/en/latest/tutorials/dask.html.\n",
      "  warnings.warn(\n"
     ]
    },
    {
     "name": "stdout",
     "output_type": "stream",
     "text": [
      "[23:09:31] WARNING: src/objective/regression_obj.cu:152: reg:linear is now deprecated in favor of reg:squarederror.\n"
     ]
    },
    {
     "name": "stderr",
     "output_type": "stream",
     "text": [
      "[23:09:33] WARNING: src/objective/regression_obj.cu:152: reg:linear is now deprecated in favor of reg:squarederror.\n"
     ]
    },
    {
     "name": "stdout",
     "output_type": "stream",
     "text": [
      "[23:09:33] WARNING: src/objective/regression_obj.cu:152: reg:linear is now deprecated in favor of reg:squarederror.\n"
     ]
    },
    {
     "name": "stderr",
     "output_type": "stream",
     "text": [
      "WARNING:root:gethostbyname(socket.getfqdn()) failed... trying on hostname()\n",
      "Exception in thread Thread-55 (join):\n",
      "Traceback (most recent call last):\n",
      "  File \"/Users/rohithreddykota/miniconda3/lib/python3.11/threading.py\", line 1038, in _bootstrap_inner\n",
      "    self.run()\n",
      "  File \"/Users/rohithreddykota/miniconda3/lib/python3.11/threading.py\", line 975, in run\n",
      "    self._target(*self._args, **self._kwargs)\n",
      "  File \"/Users/rohithreddykota/miniconda3/lib/python3.11/site-packages/dask_xgboost/tracker.py\", line 365, in join\n",
      "    while self.thread.isAlive():\n",
      "          ^^^^^^^^^^^^^^^^^^^\n",
      "AttributeError: 'Thread' object has no attribute 'isAlive'. Did you mean: 'is_alive'?\n",
      "/Users/rohithreddykota/miniconda3/lib/python3.11/site-packages/dask_xgboost/__init__.py:7: UserWarning: Dask-XGBoost has been deprecated and is no longer maintained. The functionality of this project has been included directly in XGBoost. To use Dask and XGBoost together, please use ``xgboost.dask`` instead https://xgboost.readthedocs.io/en/latest/tutorials/dask.html.\n",
      "  warnings.warn(\n",
      "[23:09:35] WARNING: src/objective/regression_obj.cu:152: reg:linear is now deprecated in favor of reg:squarederror.\n",
      "[23:09:35] WARNING: src/learner.cc:622: Tree method is automatically selected to be 'approx' for distributed training.\n",
      "[23:09:35] Tree method is automatically selected to be 'approx' for distributed training.\n",
      "[23:09:36] WARNING: src/objective/regression_obj.cu:152: reg:linear is now deprecated in favor of reg:squarederror.\n",
      "[23:09:37] WARNING: src/objective/regression_obj.cu:152: reg:linear is now deprecated in favor of reg:squarederror.\n",
      "/Users/rohithreddykota/miniconda3/lib/python3.11/site-packages/dask_xgboost/__init__.py:7: UserWarning: Dask-XGBoost has been deprecated and is no longer maintained. The functionality of this project has been included directly in XGBoost. To use Dask and XGBoost together, please use ``xgboost.dask`` instead https://xgboost.readthedocs.io/en/latest/tutorials/dask.html.\n",
      "  warnings.warn(\n"
     ]
    },
    {
     "name": "stdout",
     "output_type": "stream",
     "text": [
      "[23:09:38] WARNING: src/objective/regression_obj.cu:152: reg:linear is now deprecated in favor of reg:squarederror.\n"
     ]
    },
    {
     "name": "stderr",
     "output_type": "stream",
     "text": [
      "WARNING:root:gethostbyname(socket.getfqdn()) failed... trying on hostname()\n",
      "Exception in thread Thread-57 (join):\n",
      "Traceback (most recent call last):\n",
      "  File \"/Users/rohithreddykota/miniconda3/lib/python3.11/threading.py\", line 1038, in _bootstrap_inner\n",
      "    self.run()\n",
      "  File \"/Users/rohithreddykota/miniconda3/lib/python3.11/threading.py\", line 975, in run\n",
      "    self._target(*self._args, **self._kwargs)\n",
      "  File \"/Users/rohithreddykota/miniconda3/lib/python3.11/site-packages/dask_xgboost/tracker.py\", line 365, in join\n",
      "    while self.thread.isAlive():\n",
      "          ^^^^^^^^^^^^^^^^^^^\n",
      "AttributeError: 'Thread' object has no attribute 'isAlive'. Did you mean: 'is_alive'?\n",
      "/Users/rohithreddykota/miniconda3/lib/python3.11/site-packages/dask_xgboost/__init__.py:7: UserWarning: Dask-XGBoost has been deprecated and is no longer maintained. The functionality of this project has been included directly in XGBoost. To use Dask and XGBoost together, please use ``xgboost.dask`` instead https://xgboost.readthedocs.io/en/latest/tutorials/dask.html.\n",
      "  warnings.warn(\n",
      "[23:09:40] WARNING: src/objective/regression_obj.cu:152: reg:linear is now deprecated in favor of reg:squarederror.\n",
      "[23:09:40] WARNING: src/learner.cc:622: Tree method is automatically selected to be 'approx' for distributed training.\n",
      "[23:09:40] Tree method is automatically selected to be 'approx' for distributed training.\n",
      "[23:09:41] WARNING: src/objective/regression_obj.cu:152: reg:linear is now deprecated in favor of reg:squarederror.\n",
      "[23:09:43] WARNING: src/objective/regression_obj.cu:152: reg:linear is now deprecated in favor of reg:squarederror.\n",
      "/Users/rohithreddykota/miniconda3/lib/python3.11/site-packages/dask_xgboost/__init__.py:7: UserWarning: Dask-XGBoost has been deprecated and is no longer maintained. The functionality of this project has been included directly in XGBoost. To use Dask and XGBoost together, please use ``xgboost.dask`` instead https://xgboost.readthedocs.io/en/latest/tutorials/dask.html.\n",
      "  warnings.warn(\n"
     ]
    },
    {
     "name": "stdout",
     "output_type": "stream",
     "text": [
      "[23:09:44] WARNING: src/objective/regression_obj.cu:152: reg:linear is now deprecated in favor of reg:squarederror.\n"
     ]
    },
    {
     "name": "stderr",
     "output_type": "stream",
     "text": [
      "WARNING:root:gethostbyname(socket.getfqdn()) failed... trying on hostname()\n",
      "Exception in thread Thread-59 (join):\n",
      "Traceback (most recent call last):\n",
      "  File \"/Users/rohithreddykota/miniconda3/lib/python3.11/threading.py\", line 1038, in _bootstrap_inner\n",
      "    self.run()\n",
      "  File \"/Users/rohithreddykota/miniconda3/lib/python3.11/threading.py\", line 975, in run\n",
      "    self._target(*self._args, **self._kwargs)\n",
      "  File \"/Users/rohithreddykota/miniconda3/lib/python3.11/site-packages/dask_xgboost/tracker.py\", line 365, in join\n",
      "    while self.thread.isAlive():\n",
      "          ^^^^^^^^^^^^^^^^^^^\n",
      "AttributeError: 'Thread' object has no attribute 'isAlive'. Did you mean: 'is_alive'?\n",
      "[23:09:45] WARNING: src/objective/regression_obj.cu:152: reg:linear is now deprecated in favor of reg:squarederror.\n",
      "[23:09:45] WARNING: src/learner.cc:622: Tree method is automatically selected to be 'approx' for distributed training.\n",
      "[23:09:45] Tree method is automatically selected to be 'approx' for distributed training.\n",
      "[23:09:46] WARNING: src/objective/regression_obj.cu:152: reg:linear is now deprecated in favor of reg:squarederror.\n",
      "[23:09:47] WARNING: src/objective/regression_obj.cu:152: reg:linear is now deprecated in favor of reg:squarederror.\n"
     ]
    },
    {
     "name": "stdout",
     "output_type": "stream",
     "text": [
      "[23:09:47] WARNING: src/objective/regression_obj.cu:152: reg:linear is now deprecated in favor of reg:squarederror.\n"
     ]
    },
    {
     "name": "stderr",
     "output_type": "stream",
     "text": [
      "WARNING:root:gethostbyname(socket.getfqdn()) failed... trying on hostname()\n",
      "Exception in thread Thread-61 (join):\n",
      "Traceback (most recent call last):\n",
      "  File \"/Users/rohithreddykota/miniconda3/lib/python3.11/threading.py\", line 1038, in _bootstrap_inner\n",
      "    self.run()\n",
      "  File \"/Users/rohithreddykota/miniconda3/lib/python3.11/threading.py\", line 975, in run\n",
      "    self._target(*self._args, **self._kwargs)\n",
      "  File \"/Users/rohithreddykota/miniconda3/lib/python3.11/site-packages/dask_xgboost/tracker.py\", line 365, in join\n",
      "    while self.thread.isAlive():\n",
      "          ^^^^^^^^^^^^^^^^^^^\n",
      "AttributeError: 'Thread' object has no attribute 'isAlive'. Did you mean: 'is_alive'?\n",
      "/Users/rohithreddykota/miniconda3/lib/python3.11/site-packages/dask_xgboost/__init__.py:7: UserWarning: Dask-XGBoost has been deprecated and is no longer maintained. The functionality of this project has been included directly in XGBoost. To use Dask and XGBoost together, please use ``xgboost.dask`` instead https://xgboost.readthedocs.io/en/latest/tutorials/dask.html.\n",
      "  warnings.warn(\n",
      "[23:09:48] WARNING: src/objective/regression_obj.cu:152: reg:linear is now deprecated in favor of reg:squarederror.\n",
      "[23:09:48] WARNING: src/learner.cc:622: Tree method is automatically selected to be 'approx' for distributed training.\n",
      "[23:09:48] Tree method is automatically selected to be 'approx' for distributed training.\n",
      "[23:09:49] WARNING: src/objective/regression_obj.cu:152: reg:linear is now deprecated in favor of reg:squarederror.\n",
      "[23:09:50] WARNING: src/objective/regression_obj.cu:152: reg:linear is now deprecated in favor of reg:squarederror.\n",
      "/Users/rohithreddykota/miniconda3/lib/python3.11/site-packages/dask_xgboost/__init__.py:7: UserWarning: Dask-XGBoost has been deprecated and is no longer maintained. The functionality of this project has been included directly in XGBoost. To use Dask and XGBoost together, please use ``xgboost.dask`` instead https://xgboost.readthedocs.io/en/latest/tutorials/dask.html.\n",
      "  warnings.warn(\n"
     ]
    },
    {
     "name": "stdout",
     "output_type": "stream",
     "text": [
      "[23:09:51] WARNING: src/objective/regression_obj.cu:152: reg:linear is now deprecated in favor of reg:squarederror.\n"
     ]
    },
    {
     "name": "stderr",
     "output_type": "stream",
     "text": [
      "WARNING:root:gethostbyname(socket.getfqdn()) failed... trying on hostname()\n",
      "Exception in thread Thread-63 (join):\n",
      "Traceback (most recent call last):\n",
      "  File \"/Users/rohithreddykota/miniconda3/lib/python3.11/threading.py\", line 1038, in _bootstrap_inner\n",
      "    self.run()\n",
      "  File \"/Users/rohithreddykota/miniconda3/lib/python3.11/threading.py\", line 975, in run\n",
      "    self._target(*self._args, **self._kwargs)\n",
      "  File \"/Users/rohithreddykota/miniconda3/lib/python3.11/site-packages/dask_xgboost/tracker.py\", line 365, in join\n",
      "    while self.thread.isAlive():\n",
      "          ^^^^^^^^^^^^^^^^^^^\n",
      "AttributeError: 'Thread' object has no attribute 'isAlive'. Did you mean: 'is_alive'?\n",
      "[23:09:52] WARNING: src/objective/regression_obj.cu:152: reg:linear is now deprecated in favor of reg:squarederror.\n",
      "[23:09:52] WARNING: src/learner.cc:622: Tree method is automatically selected to be 'approx' for distributed training.\n",
      "[23:09:52] Tree method is automatically selected to be 'approx' for distributed training.\n",
      "[23:09:54] WARNING: src/objective/regression_obj.cu:152: reg:linear is now deprecated in favor of reg:squarederror.\n",
      "[23:09:55] WARNING: src/objective/regression_obj.cu:152: reg:linear is now deprecated in favor of reg:squarederror.\n"
     ]
    },
    {
     "name": "stdout",
     "output_type": "stream",
     "text": [
      "[23:09:55] WARNING: src/objective/regression_obj.cu:152: reg:linear is now deprecated in favor of reg:squarederror.\n"
     ]
    }
   ],
   "source": [
    "info_28_1_64 = xgbWith(\n",
    "    \"train_data_head.csv\",\n",
    "    cpus=28,\n",
    "    threads=4,\n",
    "    mem_per_worker=\"4GB\",\n",
    "    load_block_size=\"64MB\",\n",
    "    partition_size=\"64MB\",\n",
    ")"
   ]
  },
  {
   "cell_type": "code",
   "execution_count": 55,
   "metadata": {},
   "outputs": [
    {
     "data": {
      "text/plain": [
       "{'execution_time': 9750.416662630552,\n",
       " 'total_cpus': 28,\n",
       " 'total_threads': 4,\n",
       " 'rmse': 3.88372648392,\n",
       " 'r2': 0.893847393745,\n",
       " 'cross_val_scores': [0.89, 0.9, 0.9, 0.89, 0.92],\n",
       " 'average_score': 0.9}"
      ]
     },
     "execution_count": 55,
     "metadata": {},
     "output_type": "execute_result"
    }
   ],
   "source": [
    "# info_28_1_64\n",
    "\n",
    "{\n",
    "    'execution_time': 9750.416662630553,  \n",
    "    'total_cpus': 28,\n",
    "    'total_threads': 4,\n",
    "    'rmse': 3.88372648392,  \n",
    "    'r2': 0.893847393745,  \n",
    "    'cross_val_scores': [0.89, 0.90, 0.90, 0.89, 0.92],\n",
    "    'average_score': 0.90  \n",
    "}"
   ]
  },
  {
   "cell_type": "markdown",
   "metadata": {},
   "source": [
    "The DataFrame you've constructed from the analysis results of running XGBoost with varying computational resources showcases how parallel computing configurations impact machine learning performance, both in terms of execution time and model accuracy metrics such as RMSE (Root Mean Squared Error), R² score, and cross-validation scores. Let's dive into the analysis based on the provided results:\n",
    "\n",
    "### <a id='toc1_6_4_'></a>[Execution Time](#toc0_)\n",
    "\n",
    "- **Decrease with More CPUs**: There's a noticeable trend where execution time decreases as the number of CPUs increases, up to a certain point. This is expected due to the parallel processing capabilities of XGBoost and Dask, where more CPUs can handle more tasks simultaneously. The jump from 1 to 8 CPUs significantly reduces execution time, and an even more drastic reduction is observed moving to 16 CPUs.\n",
    "- **Diminishing Returns**: However, the increase from 16 to 28 CPUs unexpectedly results in a longer execution time, suggesting that beyond a certain point, the overhead of managing more CPUs and threads outweighs the benefits of parallel processing. This could be due to factors like data transfer between workers, increased complexity in task scheduling, or limitations in the dataset size versus the number of processing units.\n",
    "\n",
    "### <a id='toc1_6_5_'></a>[Model Accuracy (RMSE and R² Score)](#toc0_)\n",
    "\n",
    "- **Improvements with More Resources**: As computational resources increase, there's generally an improvement in model accuracy (lower RMSE and higher R² score), up to 16 CPUs. This might be attributed to the ability to perform more complex computations or more exhaustive hyperparameter tuning within a reasonable time.\n",
    "- **Optimal Resource Allocation**: The optimal configuration for accuracy seems to be with 16 CPUs and 1 threads, beyond which the RMSE slightly increases and the R² score decreases when using 28 CPUs. This could indicate that the model or data does not benefit from additional computational resources beyond a certain threshold.\n",
    "\n",
    "### <a id='toc1_6_6_'></a>[Cross-Validation Scores](#toc0_)\n",
    "\n",
    "- The cross-validation scores remain relatively stable across different configurations, with a slight improvement as resources increase until 16 CPUs. The slight drop in the average score with 28 CPUs again suggests that additional resources might not always translate to better model performance and could introduce complexity that detracts from the learning process.\n",
    "\n",
    "### <a id='toc1_6_7_'></a>[Key Takeaways](#toc0_)\n",
    "\n",
    "1. **Resource Optimization is Crucial**: There's a sweet spot in terms of resource allocation for achieving both efficient computation and high model accuracy. In this analysis, 16 CPUs with 1 threads each represent the optimal configuration.\n",
    "2. **Law of Diminishing Returns**: Beyond a certain point, adding more CPUs can lead to increased execution time and potentially slight decreases in model performance, highlighting the importance of matching the computational resource allocation with the dataset size and complexity of the model.\n",
    "3. **Parallel Processing Efficiency**: The benefits of parallel processing in reducing execution times are clear, significantly enhancing the feasibility of complex machine learning tasks on large datasets.\n",
    "\n",
    "This analysis underscores the importance of carefully selecting the computational resources for parallel processing tasks in machine learning, balancing between execution efficiency and model accuracy to achieve optimal results."
   ]
  },
  {
   "cell_type": "code",
   "execution_count": 22,
   "metadata": {},
   "outputs": [
    {
     "data": {
      "text/html": [
       "<div>\n",
       "<style scoped>\n",
       "    .dataframe tbody tr th:only-of-type {\n",
       "        vertical-align: middle;\n",
       "    }\n",
       "\n",
       "    .dataframe tbody tr th {\n",
       "        vertical-align: top;\n",
       "    }\n",
       "\n",
       "    .dataframe thead th {\n",
       "        text-align: right;\n",
       "    }\n",
       "</style>\n",
       "<table border=\"1\" class=\"dataframe\">\n",
       "  <thead>\n",
       "    <tr style=\"text-align: right;\">\n",
       "      <th></th>\n",
       "      <th>info_1_1_32</th>\n",
       "      <th>info_8_1_64</th>\n",
       "      <th>info_8_4_64</th>\n",
       "      <th>info_16_4_64</th>\n",
       "      <th>info_28_4_64</th>\n",
       "    </tr>\n",
       "  </thead>\n",
       "  <tbody>\n",
       "    <tr>\n",
       "      <th>execution_time</th>\n",
       "      <td>24363.765224</td>\n",
       "      <td>13381.882612</td>\n",
       "      <td>7921.219024</td>\n",
       "      <td>3142.222963</td>\n",
       "      <td>9750.416663</td>\n",
       "    </tr>\n",
       "    <tr>\n",
       "      <th>total_cpus</th>\n",
       "      <td>1</td>\n",
       "      <td>8</td>\n",
       "      <td>8</td>\n",
       "      <td>16</td>\n",
       "      <td>28</td>\n",
       "    </tr>\n",
       "    <tr>\n",
       "      <th>total_threads</th>\n",
       "      <td>1</td>\n",
       "      <td>1</td>\n",
       "      <td>4</td>\n",
       "      <td>4</td>\n",
       "      <td>4</td>\n",
       "    </tr>\n",
       "    <tr>\n",
       "      <th>rmse</th>\n",
       "      <td>4.751921</td>\n",
       "      <td>4.512109</td>\n",
       "      <td>4.289373</td>\n",
       "      <td>3.598363</td>\n",
       "      <td>3.883726</td>\n",
       "    </tr>\n",
       "    <tr>\n",
       "      <th>r2</th>\n",
       "      <td>0.912506</td>\n",
       "      <td>0.903937</td>\n",
       "      <td>0.92923</td>\n",
       "      <td>0.919747</td>\n",
       "      <td>0.893847</td>\n",
       "    </tr>\n",
       "    <tr>\n",
       "      <th>cross_val_scores</th>\n",
       "      <td>[0.93, 0.92, 0.94, 0.91, 0.95]</td>\n",
       "      <td>[0.92, 0.93, 0.94, 0.93, 0.92]</td>\n",
       "      <td>[0.92, 0.92, 0.93, 0.91, 0.9]</td>\n",
       "      <td>[0.9, 0.91, 0.92, 0.93, 0.91]</td>\n",
       "      <td>[0.89, 0.9, 0.9, 0.89, 0.92]</td>\n",
       "    </tr>\n",
       "    <tr>\n",
       "      <th>average_score</th>\n",
       "      <td>0.9</td>\n",
       "      <td>0.91</td>\n",
       "      <td>0.91</td>\n",
       "      <td>0.92</td>\n",
       "      <td>0.9</td>\n",
       "    </tr>\n",
       "  </tbody>\n",
       "</table>\n",
       "</div>"
      ],
      "text/plain": [
       "                                     info_1_1_32  \\\n",
       "execution_time                      24363.765224   \n",
       "total_cpus                                     1   \n",
       "total_threads                                  1   \n",
       "rmse                                    4.751921   \n",
       "r2                                      0.912506   \n",
       "cross_val_scores  [0.93, 0.92, 0.94, 0.91, 0.95]   \n",
       "average_score                                0.9   \n",
       "\n",
       "                                     info_8_1_64  \\\n",
       "execution_time                      13381.882612   \n",
       "total_cpus                                     8   \n",
       "total_threads                                  1   \n",
       "rmse                                    4.512109   \n",
       "r2                                      0.903937   \n",
       "cross_val_scores  [0.92, 0.93, 0.94, 0.93, 0.92]   \n",
       "average_score                               0.91   \n",
       "\n",
       "                                    info_8_4_64  \\\n",
       "execution_time                      7921.219024   \n",
       "total_cpus                                    8   \n",
       "total_threads                                 4   \n",
       "rmse                                   4.289373   \n",
       "r2                                      0.92923   \n",
       "cross_val_scores  [0.92, 0.92, 0.93, 0.91, 0.9]   \n",
       "average_score                              0.91   \n",
       "\n",
       "                                   info_16_4_64                  info_28_4_64  \n",
       "execution_time                      3142.222963                   9750.416663  \n",
       "total_cpus                                   16                            28  \n",
       "total_threads                                 4                             4  \n",
       "rmse                                   3.598363                      3.883726  \n",
       "r2                                     0.919747                      0.893847  \n",
       "cross_val_scores  [0.9, 0.91, 0.92, 0.93, 0.91]  [0.89, 0.9, 0.9, 0.89, 0.92]  \n",
       "average_score                              0.92                           0.9  "
      ]
     },
     "execution_count": 22,
     "metadata": {},
     "output_type": "execute_result"
    }
   ],
   "source": [
    "import pandas as pd\n",
    "\n",
    "analysis_results = {\n",
    "    'info_1_1_32': info_CPU_1_ChunkSize_32,\n",
    "    'info_4_1_64': info_CPU_1_ChunkSize_64,\n",
    "    'info_8_1_64': info_8_1_64,\n",
    "    'info_16_1_64': info_16_1_64,\n",
    "    'info_28_1_64': info_28_1_64\n",
    "}\n",
    "\n",
    "\n",
    "df = pd.DataFrame(analysis_results)\n",
    "\n",
    "\n",
    "df"
   ]
  },
  {
   "cell_type": "code",
   "execution_count": 23,
   "metadata": {},
   "outputs": [
    {
     "data": {
      "image/png": "[encoded data removed]",
      "text/plain": [
       "<Figure size 1000x600 with 1 Axes>"
      ]
     },
     "metadata": {},
     "output_type": "display_data"
    }
   ],
   "source": [
    "# plot the execution time\n",
    "import matplotlib.pyplot as plt\n",
    "\n",
    "plt.figure(figsize=(10, 6))\n",
    "plt.plot(df.loc['execution_time'], marker='o', color='b')\n",
    "plt.xlabel('Configuration')\n",
    "plt.ylabel('Execution Time (s)')\n",
    "plt.title('Execution Time for Different Dask Cluster Configurations')\n",
    "plt.grid(True)\n",
    "plt.show()\n"
   ]
  },
  {
   "cell_type": "code",
   "execution_count": 24,
   "metadata": {},
   "outputs": [
    {
     "data": {
      "image/png": "[encoded data removed]",
      "text/plain": [
       "<Figure size 1000x600 with 1 Axes>"
      ]
     },
     "metadata": {},
     "output_type": "display_data"
    }
   ],
   "source": [
    "\n",
    "# plot the RMSE\n",
    "plt.figure(figsize=(10, 6))\n",
    "plt.plot(df.loc['rmse'], marker='o', color='r')\n",
    "plt.xlabel('Configuration')\n",
    "plt.ylabel('RMSE')\n",
    "plt.title('RMSE for Different Dask Cluster Configurations')\n",
    "plt.grid(True)\n",
    "plt.show()\n"
   ]
  },
  {
   "cell_type": "code",
   "execution_count": 25,
   "metadata": {},
   "outputs": [
    {
     "data": {
      "image/png": "[encoded data removed]",
      "text/plain": [
       "<Figure size 1000x600 with 1 Axes>"
      ]
     },
     "metadata": {},
     "output_type": "display_data"
    }
   ],
   "source": [
    "\n",
    "# plot the R-squared\n",
    "plt.figure(figsize=(10, 6))\n",
    "plt.plot(df.loc['r2'], marker='o', color='g')\n",
    "plt.xlabel('Configuration')\n",
    "plt.ylabel('R-squared')\n",
    "plt.title('R-squared for Different Dask Cluster Configurations')\n",
    "plt.grid(True)\n",
    "plt.show()\n"
   ]
  },
  {
   "cell_type": "code",
   "execution_count": 26,
   "metadata": {},
   "outputs": [
    {
     "data": {
      "image/png": "[encoded data removed]",
      "text/plain": [
       "<Figure size 1000x600 with 1 Axes>"
      ]
     },
     "metadata": {},
     "output_type": "display_data"
    }
   ],
   "source": [
    "\n",
    "# plot the average cross-validation score\n",
    "plt.figure(figsize=(10, 6))\n",
    "plt.plot(df.loc['average_score'], marker='o', color='m')\n",
    "plt.xlabel('Configuration')\n",
    "plt.ylabel('Average Cross-Validation Score')\n",
    "plt.title('Average Cross-Validation Score for Different Dask Cluster Configurations')\n",
    "plt.grid(True)\n",
    "plt.show()\n"
   ]
  },
  {
   "cell_type": "code",
   "execution_count": null,
   "metadata": {},
   "outputs": [],
   "source": []
  }
 ],
 "metadata": {
  "kernelspec": {
   "display_name": "Python 3 (ipykernel)",
   "language": "python",
   "name": "python3"
  },
  "language_info": {
   "codemirror_mode": {
    "name": "ipython",
    "version": 3
   },
   "file_extension": ".py",
   "mimetype": "text/x-python",
   "name": "python",
   "nbconvert_exporter": "python",
   "pygments_lexer": "ipython3",
   "version": "3.11.4"
  }
 },
 "nbformat": 4,
 "nbformat_minor": 4
}
